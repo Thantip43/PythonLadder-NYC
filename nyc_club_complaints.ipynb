{
 "cells": [
  {
   "cell_type": "markdown",
   "metadata": {},
   "source": [
    "<img src=\"http://imgur.com/1ZcRyrc.png\" style=\"float: left; margin: 20px; height: 55px\" />\n",
    "\n",
    "# Exploring NYC Club Complaints with Pandas\n",
    "\n",
    "_Authors: Julian Oquendo and James Larkin_"
   ]
  },
  {
   "cell_type": "markdown",
   "metadata": {},
   "source": [
    "### Import standard libraries for data analysis in Python"
   ]
  },
  {
   "cell_type": "code",
   "execution_count": 46,
   "metadata": {
    "ExecuteTime": {
     "end_time": "2020-11-10T21:58:09.859649Z",
     "start_time": "2020-11-10T21:58:09.856306Z"
    }
   },
   "outputs": [],
   "source": [
    "# Import standard libraries with the commonly used aliases\n",
    "\n",
    "# Aliased as pd\n",
    "\n",
    "\n",
    "# Numerical Python - library for various mathematical operations\n",
    "# Aliased as np\n",
    "\n",
    "\n",
    "# Seaborn is a robust data visualization library that sits atop Matplotlib\n",
    "# Aliased as sns \n",
    "\n",
    "\n",
    "# pyplot is a Matplotlib module which provides a MATLAB-like interface\n",
    "# \"matplotlib.pyplot\" is aliased as plt\n"
   ]
  },
  {
   "cell_type": "markdown",
   "metadata": {},
   "source": [
    "### Reading in a comma separated values (csv) file\n",
    "- [pandas.read_csv](https://pandas.pydata.org/pandas-docs/stable/reference/api/pandas.read_csv.html)"
   ]
  },
  {
   "cell_type": "code",
   "execution_count": 48,
   "metadata": {
    "ExecuteTime": {
     "end_time": "2020-11-10T21:58:09.869791Z",
     "start_time": "2020-11-10T21:58:09.861552Z"
    }
   },
   "outputs": [],
   "source": [
    "# Read in the \"club_noise_complaints.csv\" using a handy Pandas method\n",
    "# Assign the data to a variable name such as \"cc\" (for club complaints)\n",
    "\n",
    "import pandas as pd\n",
    "import numpy as np\n",
    "import matplotlib.pyplot as plt\n",
    "\n",
    "cc = pd.read_csv('./club_noise_complaints.csv')\n",
    "\n",
    "\n",
    "# A comma separated values (csv) file is a plain text file that contains a list of data \n",
    "# with elements separated by commmas. There are also tab separated files (tsv), json files\n",
    "# (JavaScript Object Notation), etc."
   ]
  },
  {
   "cell_type": "markdown",
   "metadata": {},
   "source": [
    "### Getting a look at the dataset using Pandas methods such as `.head()`, `.tail()`, and `.sample()`\n",
    "\n",
    "- [pandas.DataFrame.head](https://pandas.pydata.org/pandas-docs/stable/reference/api/pandas.DataFrame.head.html)\n",
    "- [pandas.DataFrame.tail](https://pandas.pydata.org/pandas-docs/stable/reference/api/pandas.DataFrame.tail.html)\n",
    "- [pandas.DataFrame.sample](https://pandas.pydata.org/pandas-docs/stable/reference/api/pandas.DataFrame.sample.html)"
   ]
  },
  {
   "cell_type": "code",
   "execution_count": 50,
   "metadata": {
    "ExecuteTime": {
     "end_time": "2020-11-10T21:58:09.882641Z",
     "start_time": "2020-11-10T21:58:09.871667Z"
    }
   },
   "outputs": [
    {
     "data": {
      "text/html": [
       "<div>\n",
       "<style scoped>\n",
       "    .dataframe tbody tr th:only-of-type {\n",
       "        vertical-align: middle;\n",
       "    }\n",
       "\n",
       "    .dataframe tbody tr th {\n",
       "        vertical-align: top;\n",
       "    }\n",
       "\n",
       "    .dataframe thead th {\n",
       "        text-align: right;\n",
       "    }\n",
       "</style>\n",
       "<table border=\"1\" class=\"dataframe\">\n",
       "  <thead>\n",
       "    <tr style=\"text-align: right;\">\n",
       "      <th></th>\n",
       "      <th>index</th>\n",
       "      <th>LOC</th>\n",
       "      <th>ZC</th>\n",
       "      <th>CITY</th>\n",
       "      <th>BOUROUGHS_STATE</th>\n",
       "      <th>LAT</th>\n",
       "      <th>LONG</th>\n",
       "      <th>num_calls</th>\n",
       "    </tr>\n",
       "  </thead>\n",
       "  <tbody>\n",
       "    <tr>\n",
       "      <th>792</th>\n",
       "      <td>793</td>\n",
       "      <td>Club/Bar/Restaurant</td>\n",
       "      <td>11205</td>\n",
       "      <td>NaN</td>\n",
       "      <td>BROOKLYN, NY</td>\n",
       "      <td>40.696399</td>\n",
       "      <td>-73.967497</td>\n",
       "      <td>32</td>\n",
       "    </tr>\n",
       "    <tr>\n",
       "      <th>1538</th>\n",
       "      <td>1539</td>\n",
       "      <td>Club/Bar/Restaurant</td>\n",
       "      <td>10021</td>\n",
       "      <td>NEW YORK</td>\n",
       "      <td>MANHATTAN, NY</td>\n",
       "      <td>40.769980</td>\n",
       "      <td>-73.957518</td>\n",
       "      <td>15</td>\n",
       "    </tr>\n",
       "    <tr>\n",
       "      <th>33</th>\n",
       "      <td>34</td>\n",
       "      <td>Club/Bar/Restaurant</td>\n",
       "      <td>10464</td>\n",
       "      <td>BRONX</td>\n",
       "      <td>BRONX, NY</td>\n",
       "      <td>40.851142</td>\n",
       "      <td>-73.788467</td>\n",
       "      <td>57</td>\n",
       "    </tr>\n",
       "  </tbody>\n",
       "</table>\n",
       "</div>"
      ],
      "text/plain": [
       "      index                  LOC     ZC      CITY BOUROUGHS_STATE        LAT  \\\n",
       "792     793  Club/Bar/Restaurant  11205       NaN    BROOKLYN, NY  40.696399   \n",
       "1538   1539  Club/Bar/Restaurant  10021  NEW YORK   MANHATTAN, NY  40.769980   \n",
       "33       34  Club/Bar/Restaurant  10464     BRONX       BRONX, NY  40.851142   \n",
       "\n",
       "           LONG num_calls  \n",
       "792  -73.967497        32  \n",
       "1538 -73.957518        15  \n",
       "33   -73.788467        57  "
      ]
     },
     "execution_count": 50,
     "metadata": {},
     "output_type": "execute_result"
    }
   ],
   "source": [
    "# Check the first five rows of the Pandas DataFrame\n",
    "cc.head()\n",
    "\n",
    "# Check the last five rows of the Pandas DataFrame\n",
    "cc.tail()\n",
    "\n",
    "# Check out a sample row of the Pandas DataFrame\n",
    "cc.sample(3)\n"
   ]
  },
  {
   "cell_type": "markdown",
   "metadata": {},
   "source": [
    "### Output a concise summary of a Pandas DataFrame using `.info()`\n",
    "\n",
    "- [pandas.DataFrame.info](https://pandas.pydata.org/pandas-docs/stable/reference/api/pandas.DataFrame.info.html)"
   ]
  },
  {
   "cell_type": "code",
   "execution_count": 52,
   "metadata": {},
   "outputs": [
    {
     "data": {
      "text/html": [
       "<div>\n",
       "<style scoped>\n",
       "    .dataframe tbody tr th:only-of-type {\n",
       "        vertical-align: middle;\n",
       "    }\n",
       "\n",
       "    .dataframe tbody tr th {\n",
       "        vertical-align: top;\n",
       "    }\n",
       "\n",
       "    .dataframe thead th {\n",
       "        text-align: right;\n",
       "    }\n",
       "</style>\n",
       "<table border=\"1\" class=\"dataframe\">\n",
       "  <thead>\n",
       "    <tr style=\"text-align: right;\">\n",
       "      <th></th>\n",
       "      <th>index</th>\n",
       "      <th>LOC</th>\n",
       "      <th>ZC</th>\n",
       "      <th>CITY</th>\n",
       "      <th>BOUROUGHS_STATE</th>\n",
       "      <th>LAT</th>\n",
       "      <th>LONG</th>\n",
       "      <th>num_calls</th>\n",
       "    </tr>\n",
       "  </thead>\n",
       "  <tbody>\n",
       "    <tr>\n",
       "      <th>0</th>\n",
       "      <td>1</td>\n",
       "      <td>Club/Bar/Restaurant</td>\n",
       "      <td>10308</td>\n",
       "      <td>STATEN ISLAND</td>\n",
       "      <td>STATEN ISLAND, NY</td>\n",
       "      <td>40.544096</td>\n",
       "      <td>-74.141155</td>\n",
       "      <td>0</td>\n",
       "    </tr>\n",
       "    <tr>\n",
       "      <th>1</th>\n",
       "      <td>2</td>\n",
       "      <td>Club/Bar/Restaurant</td>\n",
       "      <td>10012</td>\n",
       "      <td>NEW YORK</td>\n",
       "      <td>MANHATTAN, NY</td>\n",
       "      <td>40.729793</td>\n",
       "      <td>-73.998842</td>\n",
       "      <td>18</td>\n",
       "    </tr>\n",
       "    <tr>\n",
       "      <th>2</th>\n",
       "      <td>3</td>\n",
       "      <td>Club/Bar/Restaurant</td>\n",
       "      <td>10308</td>\n",
       "      <td>STATEN ISLAND</td>\n",
       "      <td>STATEN ISLAND, NY</td>\n",
       "      <td>40.544209</td>\n",
       "      <td>-74.141040</td>\n",
       "      <td>21</td>\n",
       "    </tr>\n",
       "    <tr>\n",
       "      <th>3</th>\n",
       "      <td>4</td>\n",
       "      <td>Club/Bar/Restaurant</td>\n",
       "      <td>10034</td>\n",
       "      <td>New York</td>\n",
       "      <td>MANHATTAN, NY</td>\n",
       "      <td>40.866376</td>\n",
       "      <td>-73.928258</td>\n",
       "      <td>160</td>\n",
       "    </tr>\n",
       "    <tr>\n",
       "      <th>4</th>\n",
       "      <td>5</td>\n",
       "      <td>Club/Bar/Restaurant</td>\n",
       "      <td>11220</td>\n",
       "      <td>NaN</td>\n",
       "      <td>BROOKLYN, NY</td>\n",
       "      <td>40.635207</td>\n",
       "      <td>-74.020285</td>\n",
       "      <td>17</td>\n",
       "    </tr>\n",
       "  </tbody>\n",
       "</table>\n",
       "</div>"
      ],
      "text/plain": [
       "   index                  LOC     ZC           CITY    BOUROUGHS_STATE  \\\n",
       "0      1  Club/Bar/Restaurant  10308  STATEN ISLAND  STATEN ISLAND, NY   \n",
       "1      2  Club/Bar/Restaurant  10012       NEW YORK      MANHATTAN, NY   \n",
       "2      3  Club/Bar/Restaurant  10308  STATEN ISLAND  STATEN ISLAND, NY   \n",
       "3      4  Club/Bar/Restaurant  10034       New York      MANHATTAN, NY   \n",
       "4      5  Club/Bar/Restaurant  11220            NaN       BROOKLYN, NY   \n",
       "\n",
       "         LAT       LONG num_calls  \n",
       "0  40.544096 -74.141155         0  \n",
       "1  40.729793 -73.998842        18  \n",
       "2  40.544209 -74.141040        21  \n",
       "3  40.866376 -73.928258       160  \n",
       "4  40.635207 -74.020285        17  "
      ]
     },
     "execution_count": 52,
     "metadata": {},
     "output_type": "execute_result"
    }
   ],
   "source": [
    "cc.head()"
   ]
  },
  {
   "cell_type": "code",
   "execution_count": 53,
   "metadata": {
    "ExecuteTime": {
     "end_time": "2020-11-10T21:58:09.891477Z",
     "start_time": "2020-11-10T21:58:09.884516Z"
    }
   },
   "outputs": [
    {
     "name": "stdout",
     "output_type": "stream",
     "text": [
      "<class 'pandas.core.frame.DataFrame'>\n",
      "RangeIndex: 2447 entries, 0 to 2446\n",
      "Data columns (total 8 columns):\n",
      " #   Column           Non-Null Count  Dtype  \n",
      "---  ------           --------------  -----  \n",
      " 0   index            2447 non-null   int64  \n",
      " 1   LOC              2447 non-null   object \n",
      " 2   ZC               2447 non-null   int64  \n",
      " 3   CITY             1708 non-null   object \n",
      " 4   BOUROUGHS_STATE  2447 non-null   object \n",
      " 5   LAT              2447 non-null   float64\n",
      " 6   LONG             2447 non-null   float64\n",
      " 7   num_calls        2447 non-null   object \n",
      "dtypes: float64(2), int64(2), object(4)\n",
      "memory usage: 153.1+ KB\n"
     ]
    }
   ],
   "source": [
    "# Chain on the `info()` method to the Pandas DataFrame variable\n",
    "\n",
    "cc.info()"
   ]
  },
  {
   "cell_type": "markdown",
   "metadata": {},
   "source": [
    "### Checking the dimensions (number of rows and columns) in the dataset\n",
    "\n",
    "- [pandas.DataFrame.shape](https://pandas.pydata.org/pandas-docs/stable/reference/api/pandas.DataFrame.shape.html)"
   ]
  },
  {
   "cell_type": "code",
   "execution_count": 55,
   "metadata": {
    "ExecuteTime": {
     "end_time": "2020-11-10T21:58:09.897466Z",
     "start_time": "2020-11-10T21:58:09.893485Z"
    }
   },
   "outputs": [
    {
     "name": "stdout",
     "output_type": "stream",
     "text": [
      "(2447, 8)\n",
      "Index(['index', 'LOC', 'ZC', 'CITY', 'BOUROUGHS_STATE', 'LAT', 'LONG',\n",
      "       'num_calls'],\n",
      "      dtype='object')\n"
     ]
    },
    {
     "data": {
      "text/plain": [
       "RangeIndex(start=0, stop=2447, step=1)"
      ]
     },
     "execution_count": 55,
     "metadata": {},
     "output_type": "execute_result"
    }
   ],
   "source": [
    "# Chain on the `shape` attribute to the Pandas DataFrame variable\n",
    "# The output is a tuple containing the number of rows and columns in the DataFrame\n",
    "print(cc.shape)\n",
    "\n",
    "# Chain on the `columns` attribute to the Pandas DataFrame variable\n",
    "# The output is the name of the columns in the Pandas DataFrame\n",
    "print(cc.columns)\n",
    "\n",
    "\n",
    "# Chain on the `index` attribute to the Pandas DataFrame variable\n",
    "# The output is the index of the DataFrame, the data type of that index, and\n",
    "# the length of number of index values\n",
    "cc.index"
   ]
  },
  {
   "cell_type": "markdown",
   "metadata": {},
   "source": [
    "### Checking the data types in dataset\n",
    "\n",
    "- [Pandas DataTypes](https://pbpython.com/pandas_dtypes.html)\n",
    "![alt text](assets/data_types.png)"
   ]
  },
  {
   "cell_type": "code",
   "execution_count": 57,
   "metadata": {
    "ExecuteTime": {
     "end_time": "2020-11-10T21:58:09.939219Z",
     "start_time": "2020-11-10T21:58:09.899055Z"
    },
    "scrolled": true
   },
   "outputs": [
    {
     "data": {
      "text/plain": [
       "index                int64\n",
       "LOC                 object\n",
       "ZC                   int64\n",
       "CITY                object\n",
       "BOUROUGHS_STATE     object\n",
       "LAT                float64\n",
       "LONG               float64\n",
       "num_calls           object\n",
       "dtype: object"
      ]
     },
     "execution_count": 57,
     "metadata": {},
     "output_type": "execute_result"
    }
   ],
   "source": [
    "# Output the data types in the DataFrame using the `dtypes` attribute\n",
    "# Common datatypes are int64, float64, object, and many more\n",
    "cc.dtypes\n"
   ]
  },
  {
   "cell_type": "markdown",
   "metadata": {},
   "source": [
    "## Check the number of unique values inside either each column/series of a Pandas Dataframe or a single Pandas column/series\n",
    "\n",
    "- [pandas.DataFrame.nunique](https://pandas.pydata.org/pandas-docs/stable/reference/api/pandas.DataFrame.nunique.html)\n",
    "- [pandas.Series.nunique](https://pandas.pydata.org/pandas-docs/stable/reference/api/pandas.Series.nunique.html)\n",
    "      - Count the number of distinct observations over a requested axis.\n"
   ]
  },
  {
   "cell_type": "code",
   "execution_count": 59,
   "metadata": {
    "ExecuteTime": {
     "end_time": "2020-11-10T21:58:10.112420Z",
     "start_time": "2020-11-10T21:58:09.941824Z"
    }
   },
   "outputs": [
    {
     "data": {
      "text/plain": [
       "index              2447\n",
       "LOC                   2\n",
       "ZC                  159\n",
       "CITY                 40\n",
       "BOUROUGHS_STATE       6\n",
       "LAT                2390\n",
       "LONG               2389\n",
       "num_calls           190\n",
       "dtype: int64"
      ]
     },
     "execution_count": 59,
     "metadata": {},
     "output_type": "execute_result"
    }
   ],
   "source": [
    "# The `.nunique()` method used on the DataFrame outputs a count of the number of the\n",
    "# unique values in each column or Pandas Series in the DataFrame\n",
    "cc.nunique()\n"
   ]
  },
  {
   "cell_type": "markdown",
   "metadata": {},
   "source": [
    "- [pandas.DataFrame.drop](https://pandas.pydata.org/pandas-docs/stable/reference/api/pandas.DataFrame.drop.html)\n",
    "      - Drop specified labels from rows or columns."
   ]
  },
  {
   "cell_type": "code",
   "execution_count": 61,
   "metadata": {
    "ExecuteTime": {
     "end_time": "2020-11-10T21:58:10.126952Z",
     "start_time": "2020-11-10T21:58:10.123257Z"
    }
   },
   "outputs": [],
   "source": [
    "# From the documentation...\n",
    "# axis{0 or ‘index’, 1 or ‘columns’}, default 0   <---- this is key\n",
    "# Whether to drop labels from the index (0 or ‘index’) or columns (1 or ‘columns’).\n",
    "\n",
    "\n",
    "# So if you want to drop a column, such as the seemingly unneeded \"index\" column,\n",
    "# we'll override the default parameter of axis=0 or dropping rows by adding\n",
    "# axis=1 inside the parantheses\n",
    "\n",
    "cc.drop(columns = \"index\", inplace=True)"
   ]
  },
  {
   "cell_type": "code",
   "execution_count": 62,
   "metadata": {
    "ExecuteTime": {
     "end_time": "2020-11-10T21:58:10.133097Z",
     "start_time": "2020-11-10T21:58:10.128669Z"
    }
   },
   "outputs": [
    {
     "data": {
      "text/html": [
       "<div>\n",
       "<style scoped>\n",
       "    .dataframe tbody tr th:only-of-type {\n",
       "        vertical-align: middle;\n",
       "    }\n",
       "\n",
       "    .dataframe tbody tr th {\n",
       "        vertical-align: top;\n",
       "    }\n",
       "\n",
       "    .dataframe thead th {\n",
       "        text-align: right;\n",
       "    }\n",
       "</style>\n",
       "<table border=\"1\" class=\"dataframe\">\n",
       "  <thead>\n",
       "    <tr style=\"text-align: right;\">\n",
       "      <th></th>\n",
       "      <th>LOC</th>\n",
       "      <th>ZC</th>\n",
       "      <th>CITY</th>\n",
       "      <th>BOUROUGHS_STATE</th>\n",
       "      <th>LAT</th>\n",
       "      <th>LONG</th>\n",
       "      <th>num_calls</th>\n",
       "    </tr>\n",
       "  </thead>\n",
       "  <tbody>\n",
       "    <tr>\n",
       "      <th>0</th>\n",
       "      <td>Club/Bar/Restaurant</td>\n",
       "      <td>10308</td>\n",
       "      <td>STATEN ISLAND</td>\n",
       "      <td>STATEN ISLAND, NY</td>\n",
       "      <td>40.544096</td>\n",
       "      <td>-74.141155</td>\n",
       "      <td>0</td>\n",
       "    </tr>\n",
       "    <tr>\n",
       "      <th>1</th>\n",
       "      <td>Club/Bar/Restaurant</td>\n",
       "      <td>10012</td>\n",
       "      <td>NEW YORK</td>\n",
       "      <td>MANHATTAN, NY</td>\n",
       "      <td>40.729793</td>\n",
       "      <td>-73.998842</td>\n",
       "      <td>18</td>\n",
       "    </tr>\n",
       "    <tr>\n",
       "      <th>2</th>\n",
       "      <td>Club/Bar/Restaurant</td>\n",
       "      <td>10308</td>\n",
       "      <td>STATEN ISLAND</td>\n",
       "      <td>STATEN ISLAND, NY</td>\n",
       "      <td>40.544209</td>\n",
       "      <td>-74.141040</td>\n",
       "      <td>21</td>\n",
       "    </tr>\n",
       "    <tr>\n",
       "      <th>3</th>\n",
       "      <td>Club/Bar/Restaurant</td>\n",
       "      <td>10034</td>\n",
       "      <td>New York</td>\n",
       "      <td>MANHATTAN, NY</td>\n",
       "      <td>40.866376</td>\n",
       "      <td>-73.928258</td>\n",
       "      <td>160</td>\n",
       "    </tr>\n",
       "    <tr>\n",
       "      <th>4</th>\n",
       "      <td>Club/Bar/Restaurant</td>\n",
       "      <td>11220</td>\n",
       "      <td>NaN</td>\n",
       "      <td>BROOKLYN, NY</td>\n",
       "      <td>40.635207</td>\n",
       "      <td>-74.020285</td>\n",
       "      <td>17</td>\n",
       "    </tr>\n",
       "  </tbody>\n",
       "</table>\n",
       "</div>"
      ],
      "text/plain": [
       "                   LOC     ZC           CITY    BOUROUGHS_STATE        LAT  \\\n",
       "0  Club/Bar/Restaurant  10308  STATEN ISLAND  STATEN ISLAND, NY  40.544096   \n",
       "1  Club/Bar/Restaurant  10012       NEW YORK      MANHATTAN, NY  40.729793   \n",
       "2  Club/Bar/Restaurant  10308  STATEN ISLAND  STATEN ISLAND, NY  40.544209   \n",
       "3  Club/Bar/Restaurant  10034       New York      MANHATTAN, NY  40.866376   \n",
       "4  Club/Bar/Restaurant  11220            NaN       BROOKLYN, NY  40.635207   \n",
       "\n",
       "        LONG num_calls  \n",
       "0 -74.141155         0  \n",
       "1 -73.998842        18  \n",
       "2 -74.141040        21  \n",
       "3 -73.928258       160  \n",
       "4 -74.020285        17  "
      ]
     },
     "execution_count": 62,
     "metadata": {},
     "output_type": "execute_result"
    }
   ],
   "source": [
    "# Check the columns again using the appropriate columns\n",
    "cc.head(5)"
   ]
  },
  {
   "cell_type": "markdown",
   "metadata": {},
   "source": [
    "### Checking for missing values \n",
    "\n",
    "- [pandas.DataFrame.isnull](https://pandas.pydata.org/pandas-docs/stable/reference/api/pandas.DataFrame.isnull.html)\n",
    "      - Detects missing values"
   ]
  },
  {
   "cell_type": "code",
   "execution_count": 64,
   "metadata": {
    "ExecuteTime": {
     "end_time": "2020-11-10T21:58:10.141158Z",
     "start_time": "2020-11-10T21:58:10.134828Z"
    }
   },
   "outputs": [
    {
     "data": {
      "text/plain": [
       "LOC                  0\n",
       "ZC                   0\n",
       "CITY               739\n",
       "BOUROUGHS_STATE      0\n",
       "LAT                  0\n",
       "LONG                 0\n",
       "num_calls            0\n",
       "dtype: int64"
      ]
     },
     "execution_count": 64,
     "metadata": {},
     "output_type": "execute_result"
    }
   ],
   "source": [
    "# Chaining on the \"isnull\" method returns a series of Booleans. \n",
    "# True if the value is missing (NaN), False if the value is not missing)\n",
    "# NaN = Not a Number\n",
    "cc.isnull()\n",
    "\n",
    "\n",
    "# Chaining on the .sum() method totals up those 1's and 0's\n",
    "# True -> 1, False -> 0\n",
    "cc.isnull().sum()\n"
   ]
  },
  {
   "cell_type": "code",
   "execution_count": 65,
   "metadata": {
    "ExecuteTime": {
     "end_time": "2020-11-10T21:58:10.150507Z",
     "start_time": "2020-11-10T21:58:10.142615Z"
    }
   },
   "outputs": [],
   "source": [
    "# Now we can filter that \"cc.isnull().sum()\" \n",
    "\n",
    "#dropping the city out , as it has city name in the BOUROUGHS_STATE\talready\n",
    "cc.drop(columns = \"CITY\", inplace=True )"
   ]
  },
  {
   "cell_type": "code",
   "execution_count": 66,
   "metadata": {},
   "outputs": [
    {
     "data": {
      "text/html": [
       "<div>\n",
       "<style scoped>\n",
       "    .dataframe tbody tr th:only-of-type {\n",
       "        vertical-align: middle;\n",
       "    }\n",
       "\n",
       "    .dataframe tbody tr th {\n",
       "        vertical-align: top;\n",
       "    }\n",
       "\n",
       "    .dataframe thead th {\n",
       "        text-align: right;\n",
       "    }\n",
       "</style>\n",
       "<table border=\"1\" class=\"dataframe\">\n",
       "  <thead>\n",
       "    <tr style=\"text-align: right;\">\n",
       "      <th></th>\n",
       "      <th>LOC</th>\n",
       "      <th>ZC</th>\n",
       "      <th>BOUROUGHS_STATE</th>\n",
       "      <th>LAT</th>\n",
       "      <th>LONG</th>\n",
       "      <th>num_calls</th>\n",
       "    </tr>\n",
       "  </thead>\n",
       "  <tbody>\n",
       "    <tr>\n",
       "      <th>0</th>\n",
       "      <td>Club/Bar/Restaurant</td>\n",
       "      <td>10308</td>\n",
       "      <td>STATEN ISLAND, NY</td>\n",
       "      <td>40.544096</td>\n",
       "      <td>-74.141155</td>\n",
       "      <td>0</td>\n",
       "    </tr>\n",
       "    <tr>\n",
       "      <th>1</th>\n",
       "      <td>Club/Bar/Restaurant</td>\n",
       "      <td>10012</td>\n",
       "      <td>MANHATTAN, NY</td>\n",
       "      <td>40.729793</td>\n",
       "      <td>-73.998842</td>\n",
       "      <td>18</td>\n",
       "    </tr>\n",
       "    <tr>\n",
       "      <th>2</th>\n",
       "      <td>Club/Bar/Restaurant</td>\n",
       "      <td>10308</td>\n",
       "      <td>STATEN ISLAND, NY</td>\n",
       "      <td>40.544209</td>\n",
       "      <td>-74.141040</td>\n",
       "      <td>21</td>\n",
       "    </tr>\n",
       "    <tr>\n",
       "      <th>3</th>\n",
       "      <td>Club/Bar/Restaurant</td>\n",
       "      <td>10034</td>\n",
       "      <td>MANHATTAN, NY</td>\n",
       "      <td>40.866376</td>\n",
       "      <td>-73.928258</td>\n",
       "      <td>160</td>\n",
       "    </tr>\n",
       "    <tr>\n",
       "      <th>4</th>\n",
       "      <td>Club/Bar/Restaurant</td>\n",
       "      <td>11220</td>\n",
       "      <td>BROOKLYN, NY</td>\n",
       "      <td>40.635207</td>\n",
       "      <td>-74.020285</td>\n",
       "      <td>17</td>\n",
       "    </tr>\n",
       "  </tbody>\n",
       "</table>\n",
       "</div>"
      ],
      "text/plain": [
       "                   LOC     ZC    BOUROUGHS_STATE        LAT       LONG  \\\n",
       "0  Club/Bar/Restaurant  10308  STATEN ISLAND, NY  40.544096 -74.141155   \n",
       "1  Club/Bar/Restaurant  10012      MANHATTAN, NY  40.729793 -73.998842   \n",
       "2  Club/Bar/Restaurant  10308  STATEN ISLAND, NY  40.544209 -74.141040   \n",
       "3  Club/Bar/Restaurant  10034      MANHATTAN, NY  40.866376 -73.928258   \n",
       "4  Club/Bar/Restaurant  11220       BROOKLYN, NY  40.635207 -74.020285   \n",
       "\n",
       "  num_calls  \n",
       "0         0  \n",
       "1        18  \n",
       "2        21  \n",
       "3       160  \n",
       "4        17  "
      ]
     },
     "execution_count": 66,
     "metadata": {},
     "output_type": "execute_result"
    }
   ],
   "source": [
    "cc.head()"
   ]
  },
  {
   "cell_type": "markdown",
   "metadata": {},
   "source": [
    "### Checking for duplicate rows\n",
    "- [pandas.DataFrame.duplicated](https://pandas.pydata.org/pandas-docs/stable/reference/api/pandas.DataFrame.duplicated.html)\n",
    "      - Returns a Series of booleans denoting duplicate rows.\n",
    "      \n",
    "      - Key Parameter:\n",
    "           - keep{‘first’, ‘last’, False}, default ‘first’: Determines which duplicates \n",
    "             (if any) to mark.\n",
    "           - first : Mark duplicates as True except for the first occurrence.\n",
    "           - last : Mark duplicates as True except for the last occurrence.\n",
    "           - False : Mark all duplicates as True."
   ]
  },
  {
   "cell_type": "code",
   "execution_count": 68,
   "metadata": {
    "ExecuteTime": {
     "end_time": "2020-11-10T21:58:10.165169Z",
     "start_time": "2020-11-10T21:58:10.152452Z"
    }
   },
   "outputs": [],
   "source": [
    "# Here's the boolean output...\n",
    "\n",
    "\n",
    "# Here's the totals/sums after chaining on the .sum() method\n"
   ]
  },
  {
   "cell_type": "code",
   "execution_count": 69,
   "metadata": {},
   "outputs": [
    {
     "name": "stdout",
     "output_type": "stream",
     "text": [
      "7\n"
     ]
    }
   ],
   "source": [
    "print(cc.duplicated().sum())\n"
   ]
  },
  {
   "cell_type": "code",
   "execution_count": 70,
   "metadata": {
    "ExecuteTime": {
     "end_time": "2020-11-10T21:58:10.189496Z",
     "start_time": "2020-11-10T21:58:10.185739Z"
    }
   },
   "outputs": [],
   "source": [
    "# Always good to check your work...\n",
    "\n"
   ]
  },
  {
   "cell_type": "markdown",
   "metadata": {},
   "source": [
    "### Dropping duplicate rows\n",
    "- [pandas.DataFrame.drop_duplicates](https://pandas.pydata.org/pandas-docs/stable/reference/api/pandas.DataFrame.drop_duplicates.html)\n",
    "      - Returns a DataFrame with duplicate rows removed."
   ]
  },
  {
   "cell_type": "code",
   "execution_count": 72,
   "metadata": {
    "ExecuteTime": {
     "end_time": "2020-11-10T21:58:10.199876Z",
     "start_time": "2020-11-10T21:58:10.191293Z"
    }
   },
   "outputs": [],
   "source": [
    "# Use the \"drop_duplicates\" method and then either assign it back to the DataFrame\n",
    "# variable name OR explore the inplace parameter and override the default\n"
   ]
  },
  {
   "cell_type": "code",
   "execution_count": 73,
   "metadata": {},
   "outputs": [],
   "source": [
    "cc.drop_duplicates(inplace = True)"
   ]
  },
  {
   "cell_type": "markdown",
   "metadata": {},
   "source": [
    "**Always good to check your work...**\n",
    "\n",
    "- [pandas.DataFrame.shape](https://pandas.pydata.org/pandas-docs/stable/reference/api/pandas.DataFrame.shape.html)\n",
    "      - Returns a tuple representing the dimensionality (rows, columns) of the DataFrame."
   ]
  },
  {
   "cell_type": "code",
   "execution_count": 75,
   "metadata": {
    "ExecuteTime": {
     "end_time": "2020-11-10T21:58:10.205894Z",
     "start_time": "2020-11-10T21:58:10.201740Z"
    }
   },
   "outputs": [
    {
     "data": {
      "text/plain": [
       "(2440, 6)"
      ]
     },
     "execution_count": 75,
     "metadata": {},
     "output_type": "execute_result"
    }
   ],
   "source": [
    "# We can use the `shape` attribute again to check the number of rows\n",
    "# or columns in the DataFrame as we explore the data/make changes to it.\n",
    "cc.shape"
   ]
  },
  {
   "cell_type": "markdown",
   "metadata": {},
   "source": [
    "### Find the rows where the `num_calls` column contains a `?`\n",
    "\n",
    "- [pandas.Series.str.contains](https://pandas.pydata.org/pandas-docs/stable/reference/api/pandas.Series.str.contains.html)\n",
    "      - Returns a Series of booleans based on whether a given pattern is contained \n",
    "        within a string of a Series"
   ]
  },
  {
   "cell_type": "code",
   "execution_count": 77,
   "metadata": {
    "ExecuteTime": {
     "end_time": "2020-11-10T21:58:10.217944Z",
     "start_time": "2020-11-10T21:58:10.207266Z"
    }
   },
   "outputs": [
    {
     "data": {
      "text/plain": [
       "22"
      ]
     },
     "execution_count": 77,
     "metadata": {},
     "output_type": "execute_result"
    }
   ],
   "source": [
    "# \"\\\" allows us to escape the pattern - the \"?\" is what we're searching for in the data\n",
    "\n",
    "#1\n",
    "#rows_question_mark = cc[cc['num_calls'].str.contains(r'\\?', na=False)] == '?'\n",
    "#print(rows_question_mark)\n",
    "\n",
    "#len(rows_question_mark)\n",
    "\n",
    "#2\n",
    "#len(cc[cc['num_calls'].str.contains('\\\\?')])\n",
    "# Use the handy \"len\" (length) function to get a count of the rows that contain a \"?\"\n",
    "len(cc[cc['num_calls'].str.contains('\\\\?')])\n"
   ]
  },
  {
   "cell_type": "markdown",
   "metadata": {},
   "source": [
    "### Use a handy method from the NumPy library commonly referred to as `np.where()` to replace the `\"?\"` and `\"1?\"` values with a NaN (Not a Number)\n",
    "\n",
    "- [numpy.where](https://numpy.org/doc/stable/reference/generated/numpy.where.html)\n",
    "      - Return elements chosen from x or y depending on a condition.\n",
    "      - Common syntax involves three values:\n",
    "          1. condition\n",
    "          2. what to return if condition is True\n",
    "          3. what to return if condition is False"
   ]
  },
  {
   "cell_type": "code",
   "execution_count": 79,
   "metadata": {
    "ExecuteTime": {
     "end_time": "2020-11-10T21:58:10.226997Z",
     "start_time": "2020-11-10T21:58:10.222245Z"
    }
   },
   "outputs": [
    {
     "data": {
      "text/html": [
       "<div>\n",
       "<style scoped>\n",
       "    .dataframe tbody tr th:only-of-type {\n",
       "        vertical-align: middle;\n",
       "    }\n",
       "\n",
       "    .dataframe tbody tr th {\n",
       "        vertical-align: top;\n",
       "    }\n",
       "\n",
       "    .dataframe thead th {\n",
       "        text-align: right;\n",
       "    }\n",
       "</style>\n",
       "<table border=\"1\" class=\"dataframe\">\n",
       "  <thead>\n",
       "    <tr style=\"text-align: right;\">\n",
       "      <th></th>\n",
       "      <th>LOC</th>\n",
       "      <th>ZC</th>\n",
       "      <th>BOUROUGHS_STATE</th>\n",
       "      <th>LAT</th>\n",
       "      <th>LONG</th>\n",
       "      <th>num_calls</th>\n",
       "    </tr>\n",
       "  </thead>\n",
       "  <tbody>\n",
       "    <tr>\n",
       "      <th>0</th>\n",
       "      <td>Club/Bar/Restaurant</td>\n",
       "      <td>10308</td>\n",
       "      <td>STATEN ISLAND, NY</td>\n",
       "      <td>40.544096</td>\n",
       "      <td>-74.141155</td>\n",
       "      <td>0</td>\n",
       "    </tr>\n",
       "    <tr>\n",
       "      <th>1</th>\n",
       "      <td>Club/Bar/Restaurant</td>\n",
       "      <td>10012</td>\n",
       "      <td>MANHATTAN, NY</td>\n",
       "      <td>40.729793</td>\n",
       "      <td>-73.998842</td>\n",
       "      <td>18</td>\n",
       "    </tr>\n",
       "    <tr>\n",
       "      <th>2</th>\n",
       "      <td>Club/Bar/Restaurant</td>\n",
       "      <td>10308</td>\n",
       "      <td>STATEN ISLAND, NY</td>\n",
       "      <td>40.544209</td>\n",
       "      <td>-74.141040</td>\n",
       "      <td>21</td>\n",
       "    </tr>\n",
       "    <tr>\n",
       "      <th>3</th>\n",
       "      <td>Club/Bar/Restaurant</td>\n",
       "      <td>10034</td>\n",
       "      <td>MANHATTAN, NY</td>\n",
       "      <td>40.866376</td>\n",
       "      <td>-73.928258</td>\n",
       "      <td>160</td>\n",
       "    </tr>\n",
       "    <tr>\n",
       "      <th>4</th>\n",
       "      <td>Club/Bar/Restaurant</td>\n",
       "      <td>11220</td>\n",
       "      <td>BROOKLYN, NY</td>\n",
       "      <td>40.635207</td>\n",
       "      <td>-74.020285</td>\n",
       "      <td>17</td>\n",
       "    </tr>\n",
       "  </tbody>\n",
       "</table>\n",
       "</div>"
      ],
      "text/plain": [
       "                   LOC     ZC    BOUROUGHS_STATE        LAT       LONG  \\\n",
       "0  Club/Bar/Restaurant  10308  STATEN ISLAND, NY  40.544096 -74.141155   \n",
       "1  Club/Bar/Restaurant  10012      MANHATTAN, NY  40.729793 -73.998842   \n",
       "2  Club/Bar/Restaurant  10308  STATEN ISLAND, NY  40.544209 -74.141040   \n",
       "3  Club/Bar/Restaurant  10034      MANHATTAN, NY  40.866376 -73.928258   \n",
       "4  Club/Bar/Restaurant  11220       BROOKLYN, NY  40.635207 -74.020285   \n",
       "\n",
       "  num_calls  \n",
       "0         0  \n",
       "1        18  \n",
       "2        21  \n",
       "3       160  \n",
       "4        17  "
      ]
     },
     "execution_count": 79,
     "metadata": {},
     "output_type": "execute_result"
    }
   ],
   "source": [
    "cc['num_calls'] = np.where(cc['num_calls'].str.contains('\\\\?'), np.nan, cc['num_calls'])\n",
    "cc.head()"
   ]
  },
  {
   "cell_type": "code",
   "execution_count": 80,
   "metadata": {
    "ExecuteTime": {
     "end_time": "2020-11-10T21:58:10.237758Z",
     "start_time": "2020-11-10T21:58:10.229737Z"
    }
   },
   "outputs": [
    {
     "data": {
      "text/plain": [
       "22"
      ]
     },
     "execution_count": 80,
     "metadata": {},
     "output_type": "execute_result"
    }
   ],
   "source": [
    "# Check the missing values in the columns of the Pandas DataFrame\n",
    "cc['num_calls'].isnull().sum()"
   ]
  },
  {
   "cell_type": "markdown",
   "metadata": {},
   "source": [
    "### Split the values in `BOUROUGHS_STATE` columns into two separate columns then concat (or add) those two columns to the original Pandas DataFrame\n",
    "\n",
    "- [pandas.Series.str.split](https://pandas.pydata.org/pandas-docs/stable/reference/api/pandas.Series.str.split.html)\n",
    "      - Key Parameters:\n",
    "        - pat: String or regular expression to split on. If not specified, \n",
    "               the method will split on whitespace.\n",
    "        - expand (default False): Expand the split strings into separate columns.\n",
    "             - If True, return DataFrame/MultiIndex expanding dimensionality.\n",
    "             - If False, return Series/Index, containing lists of strings.\n",
    "                 \n",
    "- [pandas.concat](https://pandas.pydata.org/pandas-docs/stable/reference/api/pandas.concat.html)\n",
    "      - Key Parameter: axis {0 = \"index\", 1 = \"columns\"}, default 0\n",
    "         - References the axis to concatenate along."
   ]
  },
  {
   "cell_type": "code",
   "execution_count": 82,
   "metadata": {
    "ExecuteTime": {
     "end_time": "2020-11-10T21:58:10.248876Z",
     "start_time": "2020-11-10T21:58:10.239356Z"
    }
   },
   "outputs": [
    {
     "data": {
      "text/html": [
       "<div>\n",
       "<style scoped>\n",
       "    .dataframe tbody tr th:only-of-type {\n",
       "        vertical-align: middle;\n",
       "    }\n",
       "\n",
       "    .dataframe tbody tr th {\n",
       "        vertical-align: top;\n",
       "    }\n",
       "\n",
       "    .dataframe thead th {\n",
       "        text-align: right;\n",
       "    }\n",
       "</style>\n",
       "<table border=\"1\" class=\"dataframe\">\n",
       "  <thead>\n",
       "    <tr style=\"text-align: right;\">\n",
       "      <th></th>\n",
       "      <th>LOC</th>\n",
       "      <th>ZC</th>\n",
       "      <th>BOUROUGHS_STATE</th>\n",
       "      <th>LAT</th>\n",
       "      <th>LONG</th>\n",
       "      <th>num_calls</th>\n",
       "      <th>BOUROUGHS</th>\n",
       "      <th>STATE</th>\n",
       "    </tr>\n",
       "  </thead>\n",
       "  <tbody>\n",
       "    <tr>\n",
       "      <th>0</th>\n",
       "      <td>Club/Bar/Restaurant</td>\n",
       "      <td>10308</td>\n",
       "      <td>STATEN ISLAND, NY</td>\n",
       "      <td>40.544096</td>\n",
       "      <td>-74.141155</td>\n",
       "      <td>0</td>\n",
       "      <td>STATEN ISLAND</td>\n",
       "      <td>NY</td>\n",
       "    </tr>\n",
       "    <tr>\n",
       "      <th>1</th>\n",
       "      <td>Club/Bar/Restaurant</td>\n",
       "      <td>10012</td>\n",
       "      <td>MANHATTAN, NY</td>\n",
       "      <td>40.729793</td>\n",
       "      <td>-73.998842</td>\n",
       "      <td>18</td>\n",
       "      <td>MANHATTAN</td>\n",
       "      <td>NY</td>\n",
       "    </tr>\n",
       "    <tr>\n",
       "      <th>2</th>\n",
       "      <td>Club/Bar/Restaurant</td>\n",
       "      <td>10308</td>\n",
       "      <td>STATEN ISLAND, NY</td>\n",
       "      <td>40.544209</td>\n",
       "      <td>-74.141040</td>\n",
       "      <td>21</td>\n",
       "      <td>STATEN ISLAND</td>\n",
       "      <td>NY</td>\n",
       "    </tr>\n",
       "    <tr>\n",
       "      <th>3</th>\n",
       "      <td>Club/Bar/Restaurant</td>\n",
       "      <td>10034</td>\n",
       "      <td>MANHATTAN, NY</td>\n",
       "      <td>40.866376</td>\n",
       "      <td>-73.928258</td>\n",
       "      <td>160</td>\n",
       "      <td>MANHATTAN</td>\n",
       "      <td>NY</td>\n",
       "    </tr>\n",
       "    <tr>\n",
       "      <th>4</th>\n",
       "      <td>Club/Bar/Restaurant</td>\n",
       "      <td>11220</td>\n",
       "      <td>BROOKLYN, NY</td>\n",
       "      <td>40.635207</td>\n",
       "      <td>-74.020285</td>\n",
       "      <td>17</td>\n",
       "      <td>BROOKLYN</td>\n",
       "      <td>NY</td>\n",
       "    </tr>\n",
       "  </tbody>\n",
       "</table>\n",
       "</div>"
      ],
      "text/plain": [
       "                   LOC     ZC    BOUROUGHS_STATE        LAT       LONG  \\\n",
       "0  Club/Bar/Restaurant  10308  STATEN ISLAND, NY  40.544096 -74.141155   \n",
       "1  Club/Bar/Restaurant  10012      MANHATTAN, NY  40.729793 -73.998842   \n",
       "2  Club/Bar/Restaurant  10308  STATEN ISLAND, NY  40.544209 -74.141040   \n",
       "3  Club/Bar/Restaurant  10034      MANHATTAN, NY  40.866376 -73.928258   \n",
       "4  Club/Bar/Restaurant  11220       BROOKLYN, NY  40.635207 -74.020285   \n",
       "\n",
       "  num_calls      BOUROUGHS STATE  \n",
       "0         0  STATEN ISLAND    NY  \n",
       "1        18      MANHATTAN    NY  \n",
       "2        21  STATEN ISLAND    NY  \n",
       "3       160      MANHATTAN    NY  \n",
       "4        17       BROOKLYN    NY  "
      ]
     },
     "execution_count": 82,
     "metadata": {},
     "output_type": "execute_result"
    }
   ],
   "source": [
    "# Split the 'BOUROUGHS_STATE' column into two separate columns \n",
    "# and assign back to the new variable below\n",
    "# Conceptually similar to using \"Text to Columns\" in Excel\n",
    "#cc.str.split\n",
    "cc[['BOUROUGHS', 'STATE']] = cc['BOUROUGHS_STATE'].str.split(',', expand=True)\n",
    "cc.head()\n",
    "# Concat (combine) the new Pandas DataFrame above with the original \"cc\" DataFrame\n",
    "#cc = pd.concat([#dataframe1, #dataframe2 ], axis= )"
   ]
  },
  {
   "cell_type": "markdown",
   "metadata": {},
   "source": [
    "### Drop a column (or columns) from a Pandas DataFrame\n",
    "\n",
    "- [pandas.DataFrame.drop](https://pandas.pydata.org/pandas-docs/stable/reference/api/pandas.DataFrame.drop.html)\n",
    "      - Key Parameter: axis{0 --> \"index\", 1 --> \"columns\"}, default 0\n",
    "         - Whether to drop labels from the index (0 or ‘index’) or \n",
    "           columns (1 or ‘columns’)."
   ]
  },
  {
   "cell_type": "code",
   "execution_count": 84,
   "metadata": {
    "ExecuteTime": {
     "end_time": "2020-11-10T21:58:10.258949Z",
     "start_time": "2020-11-10T21:58:10.251136Z"
    }
   },
   "outputs": [
    {
     "data": {
      "text/html": [
       "<div>\n",
       "<style scoped>\n",
       "    .dataframe tbody tr th:only-of-type {\n",
       "        vertical-align: middle;\n",
       "    }\n",
       "\n",
       "    .dataframe tbody tr th {\n",
       "        vertical-align: top;\n",
       "    }\n",
       "\n",
       "    .dataframe thead th {\n",
       "        text-align: right;\n",
       "    }\n",
       "</style>\n",
       "<table border=\"1\" class=\"dataframe\">\n",
       "  <thead>\n",
       "    <tr style=\"text-align: right;\">\n",
       "      <th></th>\n",
       "      <th>LOC</th>\n",
       "      <th>ZC</th>\n",
       "      <th>LAT</th>\n",
       "      <th>LONG</th>\n",
       "      <th>num_calls</th>\n",
       "      <th>BOUROUGHS</th>\n",
       "      <th>STATE</th>\n",
       "    </tr>\n",
       "  </thead>\n",
       "  <tbody>\n",
       "    <tr>\n",
       "      <th>0</th>\n",
       "      <td>Club/Bar/Restaurant</td>\n",
       "      <td>10308</td>\n",
       "      <td>40.544096</td>\n",
       "      <td>-74.141155</td>\n",
       "      <td>0</td>\n",
       "      <td>STATEN ISLAND</td>\n",
       "      <td>NY</td>\n",
       "    </tr>\n",
       "    <tr>\n",
       "      <th>1</th>\n",
       "      <td>Club/Bar/Restaurant</td>\n",
       "      <td>10012</td>\n",
       "      <td>40.729793</td>\n",
       "      <td>-73.998842</td>\n",
       "      <td>18</td>\n",
       "      <td>MANHATTAN</td>\n",
       "      <td>NY</td>\n",
       "    </tr>\n",
       "    <tr>\n",
       "      <th>2</th>\n",
       "      <td>Club/Bar/Restaurant</td>\n",
       "      <td>10308</td>\n",
       "      <td>40.544209</td>\n",
       "      <td>-74.141040</td>\n",
       "      <td>21</td>\n",
       "      <td>STATEN ISLAND</td>\n",
       "      <td>NY</td>\n",
       "    </tr>\n",
       "    <tr>\n",
       "      <th>3</th>\n",
       "      <td>Club/Bar/Restaurant</td>\n",
       "      <td>10034</td>\n",
       "      <td>40.866376</td>\n",
       "      <td>-73.928258</td>\n",
       "      <td>160</td>\n",
       "      <td>MANHATTAN</td>\n",
       "      <td>NY</td>\n",
       "    </tr>\n",
       "    <tr>\n",
       "      <th>4</th>\n",
       "      <td>Club/Bar/Restaurant</td>\n",
       "      <td>11220</td>\n",
       "      <td>40.635207</td>\n",
       "      <td>-74.020285</td>\n",
       "      <td>17</td>\n",
       "      <td>BROOKLYN</td>\n",
       "      <td>NY</td>\n",
       "    </tr>\n",
       "  </tbody>\n",
       "</table>\n",
       "</div>"
      ],
      "text/plain": [
       "                   LOC     ZC        LAT       LONG num_calls      BOUROUGHS  \\\n",
       "0  Club/Bar/Restaurant  10308  40.544096 -74.141155         0  STATEN ISLAND   \n",
       "1  Club/Bar/Restaurant  10012  40.729793 -73.998842        18      MANHATTAN   \n",
       "2  Club/Bar/Restaurant  10308  40.544209 -74.141040        21  STATEN ISLAND   \n",
       "3  Club/Bar/Restaurant  10034  40.866376 -73.928258       160      MANHATTAN   \n",
       "4  Club/Bar/Restaurant  11220  40.635207 -74.020285        17       BROOKLYN   \n",
       "\n",
       "  STATE  \n",
       "0    NY  \n",
       "1    NY  \n",
       "2    NY  \n",
       "3    NY  \n",
       "4    NY  "
      ]
     },
     "execution_count": 84,
     "metadata": {},
     "output_type": "execute_result"
    }
   ],
   "source": [
    "# Drop the original \"BOUROUGHS_STATE\" column from DataFrame\n",
    "cc  = cc.drop(columns = \"BOUROUGHS_STATE\")\n",
    "cc.head()"
   ]
  },
  {
   "cell_type": "code",
   "execution_count": 85,
   "metadata": {
    "ExecuteTime": {
     "end_time": "2020-11-10T21:58:10.265855Z",
     "start_time": "2020-11-10T21:58:10.261059Z"
    }
   },
   "outputs": [
    {
     "data": {
      "text/plain": [
       "(2440, 7)"
      ]
     },
     "execution_count": 85,
     "metadata": {},
     "output_type": "execute_result"
    }
   ],
   "source": [
    "# Check your work\n",
    "cc.shape"
   ]
  },
  {
   "cell_type": "markdown",
   "metadata": {},
   "source": [
    "### Rename columns in a Pandas DataFrame\n",
    "\n",
    "- [pandas.DataFrame.rename](https://pandas.pydata.org/pandas-docs/stable/reference/api/pandas.DataFrame.rename.html)\n",
    "      - Accepts a dictionary of key/values pairs to rename columns in a Pandas DataFrame\n",
    "      - Key Parameter: columns"
   ]
  },
  {
   "cell_type": "code",
   "execution_count": 87,
   "metadata": {
    "ExecuteTime": {
     "end_time": "2020-11-10T21:58:10.272231Z",
     "start_time": "2020-11-10T21:58:10.268094Z"
    }
   },
   "outputs": [
    {
     "data": {
      "text/html": [
       "<div>\n",
       "<style scoped>\n",
       "    .dataframe tbody tr th:only-of-type {\n",
       "        vertical-align: middle;\n",
       "    }\n",
       "\n",
       "    .dataframe tbody tr th {\n",
       "        vertical-align: top;\n",
       "    }\n",
       "\n",
       "    .dataframe thead th {\n",
       "        text-align: right;\n",
       "    }\n",
       "</style>\n",
       "<table border=\"1\" class=\"dataframe\">\n",
       "  <thead>\n",
       "    <tr style=\"text-align: right;\">\n",
       "      <th></th>\n",
       "      <th>Location</th>\n",
       "      <th>Zipcode</th>\n",
       "      <th>Latitude</th>\n",
       "      <th>Longtitude</th>\n",
       "      <th>num_calls</th>\n",
       "      <th>Bouroughs</th>\n",
       "      <th>State</th>\n",
       "    </tr>\n",
       "  </thead>\n",
       "  <tbody>\n",
       "    <tr>\n",
       "      <th>0</th>\n",
       "      <td>Club/Bar/Restaurant</td>\n",
       "      <td>10308</td>\n",
       "      <td>40.544096</td>\n",
       "      <td>-74.141155</td>\n",
       "      <td>0</td>\n",
       "      <td>STATEN ISLAND</td>\n",
       "      <td>NY</td>\n",
       "    </tr>\n",
       "    <tr>\n",
       "      <th>1</th>\n",
       "      <td>Club/Bar/Restaurant</td>\n",
       "      <td>10012</td>\n",
       "      <td>40.729793</td>\n",
       "      <td>-73.998842</td>\n",
       "      <td>18</td>\n",
       "      <td>MANHATTAN</td>\n",
       "      <td>NY</td>\n",
       "    </tr>\n",
       "    <tr>\n",
       "      <th>2</th>\n",
       "      <td>Club/Bar/Restaurant</td>\n",
       "      <td>10308</td>\n",
       "      <td>40.544209</td>\n",
       "      <td>-74.141040</td>\n",
       "      <td>21</td>\n",
       "      <td>STATEN ISLAND</td>\n",
       "      <td>NY</td>\n",
       "    </tr>\n",
       "    <tr>\n",
       "      <th>3</th>\n",
       "      <td>Club/Bar/Restaurant</td>\n",
       "      <td>10034</td>\n",
       "      <td>40.866376</td>\n",
       "      <td>-73.928258</td>\n",
       "      <td>160</td>\n",
       "      <td>MANHATTAN</td>\n",
       "      <td>NY</td>\n",
       "    </tr>\n",
       "    <tr>\n",
       "      <th>4</th>\n",
       "      <td>Club/Bar/Restaurant</td>\n",
       "      <td>11220</td>\n",
       "      <td>40.635207</td>\n",
       "      <td>-74.020285</td>\n",
       "      <td>17</td>\n",
       "      <td>BROOKLYN</td>\n",
       "      <td>NY</td>\n",
       "    </tr>\n",
       "  </tbody>\n",
       "</table>\n",
       "</div>"
      ],
      "text/plain": [
       "              Location  Zipcode   Latitude  Longtitude num_calls  \\\n",
       "0  Club/Bar/Restaurant    10308  40.544096  -74.141155         0   \n",
       "1  Club/Bar/Restaurant    10012  40.729793  -73.998842        18   \n",
       "2  Club/Bar/Restaurant    10308  40.544209  -74.141040        21   \n",
       "3  Club/Bar/Restaurant    10034  40.866376  -73.928258       160   \n",
       "4  Club/Bar/Restaurant    11220  40.635207  -74.020285        17   \n",
       "\n",
       "       Bouroughs State  \n",
       "0  STATEN ISLAND    NY  \n",
       "1      MANHATTAN    NY  \n",
       "2  STATEN ISLAND    NY  \n",
       "3      MANHATTAN    NY  \n",
       "4       BROOKLYN    NY  "
      ]
     },
     "execution_count": 87,
     "metadata": {},
     "output_type": "execute_result"
    }
   ],
   "source": [
    "# Pass a dictionary of key:values pairs to the columns parameter of the \"rename\" method\n",
    "cc = cc.rename(columns={\"LOC\": \"Location\", \"ZC\": \"Zipcode\", \"LAT\": \"Latitude\", \"LONG\":\"Longtitude\", \"BOUROUGHS\":\"Bouroughs\",\"STATE\":\"State\" })\n",
    "cc.head()\n",
    "    \n"
   ]
  },
  {
   "cell_type": "code",
   "execution_count": 88,
   "metadata": {
    "ExecuteTime": {
     "end_time": "2020-11-10T21:58:10.278099Z",
     "start_time": "2020-11-10T21:58:10.274166Z"
    },
    "scrolled": true
   },
   "outputs": [],
   "source": [
    "# Check your work\n"
   ]
  },
  {
   "cell_type": "markdown",
   "metadata": {},
   "source": [
    "### Reorder columns in a Pandas DataFrame\n",
    "\n",
    "- [pandas.DataFrame.reindex](https://pandas.pydata.org/pandas-docs/stable/reference/api/pandas.DataFrame.reindex.html)\n",
    "      - Can be used to reorder columns in a Pandas DataFrame\n",
    "      - Key Parameter: columns"
   ]
  },
  {
   "cell_type": "code",
   "execution_count": 90,
   "metadata": {
    "ExecuteTime": {
     "end_time": "2020-11-10T21:58:10.284875Z",
     "start_time": "2020-11-10T21:58:10.280315Z"
    }
   },
   "outputs": [
    {
     "data": {
      "text/html": [
       "<div>\n",
       "<style scoped>\n",
       "    .dataframe tbody tr th:only-of-type {\n",
       "        vertical-align: middle;\n",
       "    }\n",
       "\n",
       "    .dataframe tbody tr th {\n",
       "        vertical-align: top;\n",
       "    }\n",
       "\n",
       "    .dataframe thead th {\n",
       "        text-align: right;\n",
       "    }\n",
       "</style>\n",
       "<table border=\"1\" class=\"dataframe\">\n",
       "  <thead>\n",
       "    <tr style=\"text-align: right;\">\n",
       "      <th></th>\n",
       "      <th>State</th>\n",
       "      <th>Bouroughs</th>\n",
       "      <th>Zipcode</th>\n",
       "      <th>location</th>\n",
       "      <th>Latitude</th>\n",
       "      <th>Longtitude</th>\n",
       "      <th>num_calls</th>\n",
       "    </tr>\n",
       "  </thead>\n",
       "  <tbody>\n",
       "    <tr>\n",
       "      <th>0</th>\n",
       "      <td>NY</td>\n",
       "      <td>STATEN ISLAND</td>\n",
       "      <td>10308</td>\n",
       "      <td>NaN</td>\n",
       "      <td>40.544096</td>\n",
       "      <td>-74.141155</td>\n",
       "      <td>0</td>\n",
       "    </tr>\n",
       "    <tr>\n",
       "      <th>1</th>\n",
       "      <td>NY</td>\n",
       "      <td>MANHATTAN</td>\n",
       "      <td>10012</td>\n",
       "      <td>NaN</td>\n",
       "      <td>40.729793</td>\n",
       "      <td>-73.998842</td>\n",
       "      <td>18</td>\n",
       "    </tr>\n",
       "    <tr>\n",
       "      <th>2</th>\n",
       "      <td>NY</td>\n",
       "      <td>STATEN ISLAND</td>\n",
       "      <td>10308</td>\n",
       "      <td>NaN</td>\n",
       "      <td>40.544209</td>\n",
       "      <td>-74.141040</td>\n",
       "      <td>21</td>\n",
       "    </tr>\n",
       "    <tr>\n",
       "      <th>3</th>\n",
       "      <td>NY</td>\n",
       "      <td>MANHATTAN</td>\n",
       "      <td>10034</td>\n",
       "      <td>NaN</td>\n",
       "      <td>40.866376</td>\n",
       "      <td>-73.928258</td>\n",
       "      <td>160</td>\n",
       "    </tr>\n",
       "    <tr>\n",
       "      <th>4</th>\n",
       "      <td>NY</td>\n",
       "      <td>BROOKLYN</td>\n",
       "      <td>11220</td>\n",
       "      <td>NaN</td>\n",
       "      <td>40.635207</td>\n",
       "      <td>-74.020285</td>\n",
       "      <td>17</td>\n",
       "    </tr>\n",
       "    <tr>\n",
       "      <th>...</th>\n",
       "      <td>...</td>\n",
       "      <td>...</td>\n",
       "      <td>...</td>\n",
       "      <td>...</td>\n",
       "      <td>...</td>\n",
       "      <td>...</td>\n",
       "      <td>...</td>\n",
       "    </tr>\n",
       "    <tr>\n",
       "      <th>2442</th>\n",
       "      <td>NY</td>\n",
       "      <td>BROOKLYN</td>\n",
       "      <td>11211</td>\n",
       "      <td>NaN</td>\n",
       "      <td>40.711765</td>\n",
       "      <td>-73.942687</td>\n",
       "      <td>16</td>\n",
       "    </tr>\n",
       "    <tr>\n",
       "      <th>2443</th>\n",
       "      <td>NY</td>\n",
       "      <td>QUEENS</td>\n",
       "      <td>11104</td>\n",
       "      <td>NaN</td>\n",
       "      <td>40.740725</td>\n",
       "      <td>-73.923911</td>\n",
       "      <td>17</td>\n",
       "    </tr>\n",
       "    <tr>\n",
       "      <th>2444</th>\n",
       "      <td>NY</td>\n",
       "      <td>MANHATTAN</td>\n",
       "      <td>10012</td>\n",
       "      <td>NaN</td>\n",
       "      <td>40.729859</td>\n",
       "      <td>-74.000592</td>\n",
       "      <td>17</td>\n",
       "    </tr>\n",
       "    <tr>\n",
       "      <th>2445</th>\n",
       "      <td>NY</td>\n",
       "      <td>STATEN ISLAND</td>\n",
       "      <td>10304</td>\n",
       "      <td>NaN</td>\n",
       "      <td>40.628744</td>\n",
       "      <td>-74.079935</td>\n",
       "      <td>11</td>\n",
       "    </tr>\n",
       "    <tr>\n",
       "      <th>2446</th>\n",
       "      <td>NY</td>\n",
       "      <td>QUEENS</td>\n",
       "      <td>11423</td>\n",
       "      <td>NaN</td>\n",
       "      <td>40.711692</td>\n",
       "      <td>-73.769709</td>\n",
       "      <td>11</td>\n",
       "    </tr>\n",
       "  </tbody>\n",
       "</table>\n",
       "<p>2440 rows × 7 columns</p>\n",
       "</div>"
      ],
      "text/plain": [
       "     State      Bouroughs  Zipcode  location   Latitude  Longtitude num_calls\n",
       "0       NY  STATEN ISLAND    10308       NaN  40.544096  -74.141155         0\n",
       "1       NY      MANHATTAN    10012       NaN  40.729793  -73.998842        18\n",
       "2       NY  STATEN ISLAND    10308       NaN  40.544209  -74.141040        21\n",
       "3       NY      MANHATTAN    10034       NaN  40.866376  -73.928258       160\n",
       "4       NY       BROOKLYN    11220       NaN  40.635207  -74.020285        17\n",
       "...    ...            ...      ...       ...        ...         ...       ...\n",
       "2442    NY       BROOKLYN    11211       NaN  40.711765  -73.942687        16\n",
       "2443    NY         QUEENS    11104       NaN  40.740725  -73.923911        17\n",
       "2444    NY      MANHATTAN    10012       NaN  40.729859  -74.000592        17\n",
       "2445    NY  STATEN ISLAND    10304       NaN  40.628744  -74.079935        11\n",
       "2446    NY         QUEENS    11423       NaN  40.711692  -73.769709        11\n",
       "\n",
       "[2440 rows x 7 columns]"
      ]
     },
     "execution_count": 90,
     "metadata": {},
     "output_type": "execute_result"
    }
   ],
   "source": [
    "# Pass a list of column names (as string) to the columns parameter of the \"reindex\" method\n",
    "new_index = ['State', 'Bouroughs', 'Zipcode', 'location', 'Latitude' ,'Longtitude','num_calls']\n",
    "cc.reindex(new_index, axis = \"columns\")\n"
   ]
  },
  {
   "cell_type": "code",
   "execution_count": 91,
   "metadata": {
    "ExecuteTime": {
     "end_time": "2020-11-10T21:58:10.299785Z",
     "start_time": "2020-11-10T21:58:10.286605Z"
    },
    "scrolled": true
   },
   "outputs": [],
   "source": [
    "# Check your work\n"
   ]
  },
  {
   "cell_type": "markdown",
   "metadata": {},
   "source": [
    "### Use `.describe()` to output descriptive statistic for the numeric columns in the Pandas DataFrame\n",
    "\n",
    "- [pandas.DataFrame.describe](https://pandas.pydata.org/pandas-docs/stable/reference/api/pandas.DataFrame.describe.html)\n",
    "      - Descriptive statistics summarizing the central tendency, dispersion and \n",
    "        shape of a dataset’s distribution, excluding NaN values."
   ]
  },
  {
   "cell_type": "code",
   "execution_count": 93,
   "metadata": {
    "ExecuteTime": {
     "end_time": "2020-11-10T21:58:10.327429Z",
     "start_time": "2020-11-10T21:58:10.308573Z"
    }
   },
   "outputs": [
    {
     "data": {
      "text/plain": [
       "count     2418\n",
       "unique     188\n",
       "top         10\n",
       "freq       186\n",
       "Name: num_calls, dtype: object"
      ]
     },
     "execution_count": 93,
     "metadata": {},
     "output_type": "execute_result"
    }
   ],
   "source": [
    "# The `describe()` method outputs descriptive statistics by default for the\n",
    "# numeric columns in the Pandas DataFrame.\n",
    "cc['num_calls'].describe()"
   ]
  },
  {
   "cell_type": "code",
   "execution_count": 94,
   "metadata": {
    "ExecuteTime": {
     "end_time": "2020-11-10T21:58:10.335866Z",
     "start_time": "2020-11-10T21:58:10.329180Z"
    },
    "scrolled": true
   },
   "outputs": [],
   "source": [
    "# Setting a condition outputs a series of Booleans. \n",
    "# True if the condition is met, False if not\n"
   ]
  },
  {
   "cell_type": "code",
   "execution_count": 95,
   "metadata": {
    "ExecuteTime": {
     "end_time": "2020-11-10T21:58:10.348105Z",
     "start_time": "2020-11-10T21:58:10.337277Z"
    }
   },
   "outputs": [
    {
     "data": {
      "text/html": [
       "<div>\n",
       "<style scoped>\n",
       "    .dataframe tbody tr th:only-of-type {\n",
       "        vertical-align: middle;\n",
       "    }\n",
       "\n",
       "    .dataframe tbody tr th {\n",
       "        vertical-align: top;\n",
       "    }\n",
       "\n",
       "    .dataframe thead th {\n",
       "        text-align: right;\n",
       "    }\n",
       "</style>\n",
       "<table border=\"1\" class=\"dataframe\">\n",
       "  <thead>\n",
       "    <tr style=\"text-align: right;\">\n",
       "      <th></th>\n",
       "      <th>Location</th>\n",
       "      <th>Zipcode</th>\n",
       "      <th>Latitude</th>\n",
       "      <th>Longtitude</th>\n",
       "      <th>num_calls</th>\n",
       "      <th>Bouroughs</th>\n",
       "      <th>State</th>\n",
       "    </tr>\n",
       "  </thead>\n",
       "  <tbody>\n",
       "    <tr>\n",
       "      <th>1048</th>\n",
       "      <td>Club/Bar/Restaurant</td>\n",
       "      <td>10036</td>\n",
       "      <td>-40.764281</td>\n",
       "      <td>-73.998581</td>\n",
       "      <td>10</td>\n",
       "      <td>MANHATTAN</td>\n",
       "      <td>NY</td>\n",
       "    </tr>\n",
       "  </tbody>\n",
       "</table>\n",
       "</div>"
      ],
      "text/plain": [
       "                 Location  Zipcode   Latitude  Longtitude num_calls  \\\n",
       "1048  Club/Bar/Restaurant    10036 -40.764281  -73.998581        10   \n",
       "\n",
       "      Bouroughs State  \n",
       "1048  MANHATTAN    NY  "
      ]
     },
     "execution_count": 95,
     "metadata": {},
     "output_type": "execute_result"
    }
   ],
   "source": [
    "# Filtering the \"cc\" DataFrame by the condition of \"cc['latitude'] <= 0\"\n",
    "# will return the rows where that condition is met \n",
    "# (latitude values is less than or equal to zero)\n",
    "cc[cc['Latitude'] <= 0]\n",
    "\n",
    "# must be + in US"
   ]
  },
  {
   "cell_type": "code",
   "execution_count": 96,
   "metadata": {
    "ExecuteTime": {
     "end_time": "2020-11-10T21:58:10.361313Z",
     "start_time": "2020-11-10T21:58:10.349740Z"
    },
    "scrolled": true
   },
   "outputs": [
    {
     "data": {
      "text/html": [
       "<div>\n",
       "<style scoped>\n",
       "    .dataframe tbody tr th:only-of-type {\n",
       "        vertical-align: middle;\n",
       "    }\n",
       "\n",
       "    .dataframe tbody tr th {\n",
       "        vertical-align: top;\n",
       "    }\n",
       "\n",
       "    .dataframe thead th {\n",
       "        text-align: right;\n",
       "    }\n",
       "</style>\n",
       "<table border=\"1\" class=\"dataframe\">\n",
       "  <thead>\n",
       "    <tr style=\"text-align: right;\">\n",
       "      <th></th>\n",
       "      <th>Location</th>\n",
       "      <th>Zipcode</th>\n",
       "      <th>Latitude</th>\n",
       "      <th>Longtitude</th>\n",
       "      <th>num_calls</th>\n",
       "      <th>Bouroughs</th>\n",
       "      <th>State</th>\n",
       "    </tr>\n",
       "  </thead>\n",
       "  <tbody>\n",
       "    <tr>\n",
       "      <th>2339</th>\n",
       "      <td>Club/Bar/Restaurant</td>\n",
       "      <td>11237</td>\n",
       "      <td>40.704007</td>\n",
       "      <td>73.930575</td>\n",
       "      <td>14</td>\n",
       "      <td>BROOKLYN</td>\n",
       "      <td>NY</td>\n",
       "    </tr>\n",
       "  </tbody>\n",
       "</table>\n",
       "</div>"
      ],
      "text/plain": [
       "                 Location  Zipcode   Latitude  Longtitude num_calls Bouroughs  \\\n",
       "2339  Club/Bar/Restaurant    11237  40.704007   73.930575        14  BROOKLYN   \n",
       "\n",
       "     State  \n",
       "2339    NY  "
      ]
     },
     "execution_count": 96,
     "metadata": {},
     "output_type": "execute_result"
    }
   ],
   "source": [
    "# Now just flipping the sign around for the \"longitude\" Series (column) to output\n",
    "# the rows where the longitude value is greater than or equal to zero\n",
    "cc[cc['Longtitude'] >= 0]\n",
    "# must be - in US"
   ]
  },
  {
   "cell_type": "markdown",
   "metadata": {},
   "source": [
    "**`.loc` and `.iloc`**\n",
    "  - [Indexing and selecting data](https://pandas.pydata.org/pandas-docs/stable/user_guide/indexing.html)\n",
    "  - [Handy .loc and .iloc resource](https://www.shanelynn.ie/select-pandas-dataframe-rows-and-columns-using-iloc-loc-and-ix/)"
   ]
  },
  {
   "cell_type": "code",
   "execution_count": 98,
   "metadata": {
    "ExecuteTime": {
     "end_time": "2020-11-10T21:58:10.369185Z",
     "start_time": "2020-11-10T21:58:10.363029Z"
    }
   },
   "outputs": [],
   "source": [
    "# Fix the erroneous value in the \"longitude\" column\n",
    "cc.reindex\n",
    "#cc[cc['Longtitude'] >= 0]\n",
    "cc.loc[2339,\"Longtitude\"] = cc.loc[2339,\"Longtitude\"]*-1\n"
   ]
  },
  {
   "cell_type": "code",
   "execution_count": 99,
   "metadata": {
    "ExecuteTime": {
     "end_time": "2020-11-10T21:58:10.374442Z",
     "start_time": "2020-11-10T21:58:10.371040Z"
    }
   },
   "outputs": [],
   "source": [
    "# Fix the erroneous value in the \"latitude\" column\n",
    "cc.loc[1048,\"Latitude\"] = cc.loc[1048,\"Latitude\"]*-1"
   ]
  },
  {
   "cell_type": "markdown",
   "metadata": {},
   "source": [
    "**Always good to check your work...**"
   ]
  },
  {
   "cell_type": "code",
   "execution_count": 101,
   "metadata": {
    "ExecuteTime": {
     "end_time": "2020-11-10T21:58:10.384052Z",
     "start_time": "2020-11-10T21:58:10.375983Z"
    }
   },
   "outputs": [
    {
     "data": {
      "text/html": [
       "<div>\n",
       "<style scoped>\n",
       "    .dataframe tbody tr th:only-of-type {\n",
       "        vertical-align: middle;\n",
       "    }\n",
       "\n",
       "    .dataframe tbody tr th {\n",
       "        vertical-align: top;\n",
       "    }\n",
       "\n",
       "    .dataframe thead th {\n",
       "        text-align: right;\n",
       "    }\n",
       "</style>\n",
       "<table border=\"1\" class=\"dataframe\">\n",
       "  <thead>\n",
       "    <tr style=\"text-align: right;\">\n",
       "      <th></th>\n",
       "      <th>Location</th>\n",
       "      <th>Zipcode</th>\n",
       "      <th>Latitude</th>\n",
       "      <th>Longtitude</th>\n",
       "      <th>num_calls</th>\n",
       "      <th>Bouroughs</th>\n",
       "      <th>State</th>\n",
       "    </tr>\n",
       "  </thead>\n",
       "  <tbody>\n",
       "  </tbody>\n",
       "</table>\n",
       "</div>"
      ],
      "text/plain": [
       "Empty DataFrame\n",
       "Columns: [Location, Zipcode, Latitude, Longtitude, num_calls, Bouroughs, State]\n",
       "Index: []"
      ]
     },
     "execution_count": 101,
     "metadata": {},
     "output_type": "execute_result"
    }
   ],
   "source": [
    "# Check the \"longitude\" column again for any erroneous values\n",
    "cc[cc['Longtitude'] >= 0]"
   ]
  },
  {
   "cell_type": "code",
   "execution_count": 102,
   "metadata": {
    "ExecuteTime": {
     "end_time": "2020-11-10T21:58:10.394140Z",
     "start_time": "2020-11-10T21:58:10.385464Z"
    }
   },
   "outputs": [
    {
     "data": {
      "text/html": [
       "<div>\n",
       "<style scoped>\n",
       "    .dataframe tbody tr th:only-of-type {\n",
       "        vertical-align: middle;\n",
       "    }\n",
       "\n",
       "    .dataframe tbody tr th {\n",
       "        vertical-align: top;\n",
       "    }\n",
       "\n",
       "    .dataframe thead th {\n",
       "        text-align: right;\n",
       "    }\n",
       "</style>\n",
       "<table border=\"1\" class=\"dataframe\">\n",
       "  <thead>\n",
       "    <tr style=\"text-align: right;\">\n",
       "      <th></th>\n",
       "      <th>Location</th>\n",
       "      <th>Zipcode</th>\n",
       "      <th>Latitude</th>\n",
       "      <th>Longtitude</th>\n",
       "      <th>num_calls</th>\n",
       "      <th>Bouroughs</th>\n",
       "      <th>State</th>\n",
       "    </tr>\n",
       "  </thead>\n",
       "  <tbody>\n",
       "  </tbody>\n",
       "</table>\n",
       "</div>"
      ],
      "text/plain": [
       "Empty DataFrame\n",
       "Columns: [Location, Zipcode, Latitude, Longtitude, num_calls, Bouroughs, State]\n",
       "Index: []"
      ]
     },
     "execution_count": 102,
     "metadata": {},
     "output_type": "execute_result"
    }
   ],
   "source": [
    "# Check the \"latitude\" column again for any erroneous values\n",
    "cc[cc['Latitude'] <= 0]"
   ]
  },
  {
   "cell_type": "markdown",
   "metadata": {},
   "source": [
    "### We can write all this work back to a csv file if we wish to. \n",
    "\n",
    "- [pandas.DataFrame.to_csv](https://pandas.pydata.org/pandas-docs/stable/reference/api/pandas.DataFrame.to_csv.html)\n",
    "      - Key Parameter: index (bool), default True\n",
    "         - Write row names (index)"
   ]
  },
  {
   "cell_type": "code",
   "execution_count": 104,
   "metadata": {
    "ExecuteTime": {
     "end_time": "2020-11-10T21:58:10.417724Z",
     "start_time": "2020-11-10T21:58:10.396279Z"
    }
   },
   "outputs": [],
   "source": [
    "# Write the cleaned up Pandas DataFrame to a comma-separated values (csv) file.\n",
    "cc.to_csv(\"cc_edited.csv\", index = False)"
   ]
  },
  {
   "cell_type": "code",
   "execution_count": null,
   "metadata": {},
   "outputs": [],
   "source": []
  }
 ],
 "metadata": {
  "kernelspec": {
   "display_name": "Python 3 (ipykernel)",
   "language": "python",
   "name": "python3"
  },
  "language_info": {
   "codemirror_mode": {
    "name": "ipython",
    "version": 3
   },
   "file_extension": ".py",
   "mimetype": "text/x-python",
   "name": "python",
   "nbconvert_exporter": "python",
   "pygments_lexer": "ipython3",
   "version": "3.12.4"
  }
 },
 "nbformat": 4,
 "nbformat_minor": 4
}
