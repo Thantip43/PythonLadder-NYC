{
 "cells": [
  {
   "cell_type": "markdown",
   "metadata": {},
   "source": [
    "<img src=\"http://imgur.com/1ZcRyrc.png\" style=\"float: left; margin: 20px; height: 55px\" />\n",
    "\n",
    "# Python Ladder Challenge - Notebook 3\n",
    "\n",
    "_Author:_ Tim Book"
   ]
  },
  {
   "cell_type": "markdown",
   "metadata": {},
   "source": [
    "# Climb the Ladder!\n",
    "Our class moves quickly! Sometimes, it feels like we make leaps in logic that are a bit too big. Learn Python _slowly_, by doing many, many examples. Problems in this notebook start out easy and progressively get harder, so that the next rung of the Python ladder is always within reach."
   ]
  },
  {
   "cell_type": "markdown",
   "metadata": {},
   "source": [
    "# Section VII: Functions\n",
    "In this section, every question gives example(s). You can (but don't need to) name your function accordingly. You _should_ test out the example to make sure your function works properly. If the example doesn't work, your answer is likely incorrect."
   ]
  },
  {
   "cell_type": "markdown",
   "metadata": {},
   "source": [
    "72) Write a function to compute the area of a triangle. You only need the base and height of a triangle to compute its area.\n",
    "\n",
    "* _Example:_ `area_triangle(5, 4) == 10.0`"
   ]
  },
  {
   "cell_type": "code",
   "execution_count": 5,
   "metadata": {},
   "outputs": [
    {
     "data": {
      "text/plain": [
       "900.0"
      ]
     },
     "execution_count": 5,
     "metadata": {},
     "output_type": "execute_result"
    }
   ],
   "source": [
    "h = 30\n",
    "b = 60\n",
    "area = 0.5*h*b\n",
    "area"
   ]
  },
  {
   "cell_type": "markdown",
   "metadata": {},
   "source": [
    "73) Import `pi` from `math` and write a function to compute the area of a circle. You only need the radius of a circle to compute its area.\n",
    "\n",
    "* _Example:_ `area_circle(10) == 314.159...`"
   ]
  },
  {
   "cell_type": "code",
   "execution_count": 7,
   "metadata": {},
   "outputs": [],
   "source": [
    "from math import pi\n",
    "def area_circle(n):\n",
    "    return r**2 * math.pi "
   ]
  },
  {
   "cell_type": "markdown",
   "metadata": {},
   "source": [
    "74) Write a function that takes in a number `max_num` and returns the sum of the numbers 1 through `max_num` (inclusive).\n",
    "* _Example:_ `sum_n(5) == 1 + 2 + 3 + 4 + 5 == 15`"
   ]
  },
  {
   "cell_type": "code",
   "execution_count": 9,
   "metadata": {},
   "outputs": [
    {
     "data": {
      "text/plain": [
       "1275"
      ]
     },
     "execution_count": 9,
     "metadata": {},
     "output_type": "execute_result"
    }
   ],
   "source": [
    "def sum_all(max_num):\n",
    "    return sum(range(1, max_num +1))\n",
    "\n",
    "sum_all(50)"
   ]
  },
  {
   "cell_type": "markdown",
   "metadata": {},
   "source": [
    "75) Write a function that takes in a number `max_num` and returns the sum of the square of the numbers 1 through `max_num` (inclusive).\n",
    "* `sum_squares(5) == 1 + 4 + 9 + 16 + 25 == 55`"
   ]
  },
  {
   "cell_type": "code",
   "execution_count": 11,
   "metadata": {},
   "outputs": [
    {
     "data": {
      "text/plain": [
       "3381300"
      ]
     },
     "execution_count": 11,
     "metadata": {},
     "output_type": "execute_result"
    }
   ],
   "source": [
    "def sum_squ(max_num):\n",
    "    return sum(range(1**2, (max_num +1)**2))\n",
    "\n",
    "sum_squ(50)"
   ]
  },
  {
   "cell_type": "markdown",
   "metadata": {},
   "source": [
    "76) Write a function that takes a number (an amount in euros) and convert it to U.S. dollars. There are 1.1 U.S. dollars per euro.\n",
    "* `to_dollar(10) == 11.0`"
   ]
  },
  {
   "cell_type": "code",
   "execution_count": 13,
   "metadata": {},
   "outputs": [
    {
     "data": {
      "text/plain": [
       "4400.0"
      ]
     },
     "execution_count": 13,
     "metadata": {},
     "output_type": "execute_result"
    }
   ],
   "source": [
    "def covert_euros(n):\n",
    "    return n*1.1\n",
    "\n",
    "covert_euros(4000)"
   ]
  },
  {
   "cell_type": "markdown",
   "metadata": {},
   "source": [
    "76) Write a function that takes a list of numbers (amounts in euros), and returns them converted to dollars. Use your answer to the previous question in your answer to this question.\n",
    "* _Example:_ `to_dollar_list([1, 10, 100]) == [1.1, 11.0, 110.0]`\n",
    "* _Note:_ You may get some decimal weirdness here."
   ]
  },
  {
   "cell_type": "code",
   "execution_count": 15,
   "metadata": {},
   "outputs": [
    {
     "data": {
      "text/plain": [
       "1.1"
      ]
     },
     "execution_count": 15,
     "metadata": {},
     "output_type": "execute_result"
    }
   ],
   "source": [
    "to_dollar_list = [1, 10, 100]\n",
    "def covert_euros(n):\n",
    "    for euros in n:\n",
    "        return euros*1.1\n",
    "\n",
    "covert_euros(to_dollar_list)"
   ]
  },
  {
   "cell_type": "code",
   "execution_count": 16,
   "metadata": {},
   "outputs": [
    {
     "data": {
      "text/plain": [
       "[1.1, 11.0, 110.0]"
      ]
     },
     "execution_count": 16,
     "metadata": {},
     "output_type": "execute_result"
    }
   ],
   "source": [
    "def covert_euros(euro_list):\n",
    "        return [round((euro * 1.1),4)   for euro in euro_list]\n",
    "\n",
    "to_dollar_list = [1, 10, 100]\n",
    "dollars = covert_euros(to_dollar_list)\n",
    "\n",
    "\n",
    "dollars"
   ]
  },
  {
   "cell_type": "markdown",
   "metadata": {},
   "source": [
    "77) Write a function that takes a number (a person's height) and returns \"Tall enough\" if they are at least 5 feet (60 inches) or \"Too short\" if they are below 5 feet.\n",
    "* _Example:_ `is_tall(72) == 'Tall enough'`\n",
    "* _Example:_ `is_tall(52) == 'Too short'`"
   ]
  },
  {
   "cell_type": "code",
   "execution_count": 18,
   "metadata": {},
   "outputs": [
    {
     "data": {
      "text/plain": [
       "'Too short'"
      ]
     },
     "execution_count": 18,
     "metadata": {},
     "output_type": "execute_result"
    }
   ],
   "source": [
    "def check_heights(h):\n",
    "    if h >= 60:\n",
    "        return \"Tall enough\"\n",
    "    else:\n",
    "        return \"Too short\"\n",
    "\n",
    "check_heights(56)"
   ]
  },
  {
   "cell_type": "markdown",
   "metadata": {},
   "source": [
    "78) Write a function that takes a list of numbers (peoples' heights) and returns a list of strings \"Tall enough\" or \"Too short\" as in the previous problem. Use your answer to the previous problem to help answer this problem.\n",
    "* _Example:_ `is_tall_list([58, 70, 60]) == ['Too short', 'Tall enough', 'Tall enough']`"
   ]
  },
  {
   "cell_type": "code",
   "execution_count": 20,
   "metadata": {},
   "outputs": [
    {
     "data": {
      "text/plain": [
       "['Too short', 'Tall enough', 'Tall enough']"
      ]
     },
     "execution_count": 20,
     "metadata": {},
     "output_type": "execute_result"
    }
   ],
   "source": [
    "is_tall_list = [58, 70, 60]\n",
    "\n",
    "def check_heights(h):\n",
    "    return [ \"Tall enough\" if h >= 60 else \"Too short\" for h in h]\n",
    "\n",
    "check_heights(is_tall_list)"
   ]
  },
  {
   "cell_type": "markdown",
   "metadata": {},
   "source": [
    "79) Write a function that takes in a numeric grade (0 to 100) and returns the letter grade (no pluses or minuses). In a traditional rubric, that would be as follows:\n",
    "\n",
    "* 90 or above = A\n",
    "* 80 - 89 = B\n",
    "* 70 - 79 = C\n",
    "* 60 - 69 = D\n",
    "* 59 or below = F\n",
    "    \n",
    "    \n",
    "* _Example:_ `letter_grade(85) == 'B'`"
   ]
  },
  {
   "cell_type": "code",
   "execution_count": 22,
   "metadata": {},
   "outputs": [
    {
     "data": {
      "text/plain": [
       "'F'"
      ]
     },
     "execution_count": 22,
     "metadata": {},
     "output_type": "execute_result"
    }
   ],
   "source": [
    "def check_grade(g):\n",
    "    if g >= 90:\n",
    "        return \"A\"\n",
    "    elif g >= 80 and g < 90:\n",
    "        return \"B\"\n",
    "    elif g >= 70 and g < 80:\n",
    "        return \"C\"\n",
    "    elif g >= 60 and g < 70:\n",
    "        return \"D\"\n",
    "    else:\n",
    "        return \"F\"\n",
    "\n",
    "\n",
    "check_grade(40)"
   ]
  },
  {
   "cell_type": "markdown",
   "metadata": {},
   "source": [
    "80) Write _another_ function that takes a list of numeric grades and returns their letter grades. Use the function written above in your answer.\n",
    "\n",
    "* _Example:_ `letter_grades([85, 62, 90]) == ['B', 'D', 'A']`"
   ]
  },
  {
   "cell_type": "code",
   "execution_count": 24,
   "metadata": {},
   "outputs": [
    {
     "data": {
      "text/plain": [
       "['B', 'D', 'A']"
      ]
     },
     "execution_count": 24,
     "metadata": {},
     "output_type": "execute_result"
    }
   ],
   "source": [
    "def grade_lists(gls):\n",
    "    def check_grade(g):\n",
    "        if g >= 90:\n",
    "            return \"A\"\n",
    "        elif g >= 80 and g < 90:\n",
    "            return \"B\"\n",
    "        elif g >= 70 and g < 80:\n",
    "            return \"C\"\n",
    "        elif g >= 60 and g < 70:\n",
    "            return \"D\"\n",
    "        else:\n",
    "            return \"F\"\n",
    "    return [check_grade(g) for g in gls]\n",
    "\n",
    "letter_grades= [85, 62, 90]\n",
    "grade_lists(letter_grades)"
   ]
  },
  {
   "cell_type": "markdown",
   "metadata": {},
   "source": [
    "81) Write a function that takes in a string and returns the number of vowels in that string. (No, y is not a vowel).\n",
    "* _Example:_ `vowel_count('General Assembly') == 5`"
   ]
  },
  {
   "cell_type": "code",
   "execution_count": 26,
   "metadata": {},
   "outputs": [
    {
     "data": {
      "text/plain": [
       "5"
      ]
     },
     "execution_count": 26,
     "metadata": {},
     "output_type": "execute_result"
    }
   ],
   "source": [
    "def vowels_count(text):\n",
    "    for n in text:\n",
    "        vowels = \"aeiouAEIOU\"\n",
    "        return sum(1 for n in text if n in vowels)\n",
    "            \n",
    "vowel_count = 'General Assembly'\n",
    "vowels_count(vowel_count)"
   ]
  },
  {
   "cell_type": "markdown",
   "metadata": {},
   "source": [
    "82) Write a function that takes in a string and returns that string with its consonants capitalized and vowels lowercased.\n",
    "\n",
    "* _Example:_ `toggle_case('General Assembly') == 'GeNeRaL aSSeMBLY'`"
   ]
  },
  {
   "cell_type": "code",
   "execution_count": 28,
   "metadata": {},
   "outputs": [
    {
     "data": {
      "text/plain": [
       "'GeNeRaL aSSeMBLY'"
      ]
     },
     "execution_count": 28,
     "metadata": {},
     "output_type": "execute_result"
    }
   ],
   "source": [
    "def up_low(text):\n",
    "    for n in text:\n",
    "        vowels = \"aeiouAEIOU\"\n",
    "        return \"\".join(n.capitalize() if n not in vowels else n.lower() for n in text)\n",
    "\n",
    "toggle_case ='General Assembly'\n",
    "up_low(toggle_case)"
   ]
  },
  {
   "cell_type": "markdown",
   "metadata": {},
   "source": [
    "83) Write a function that takes in a string and returns that string with its vowels removed.\n",
    "* _Example:_ `disemvowel('Python is my favorite language') == 'Pythn s my fvrt lngg'`"
   ]
  },
  {
   "cell_type": "code",
   "execution_count": 30,
   "metadata": {},
   "outputs": [
    {
     "data": {
      "text/plain": [
       "'Pythn s my fvrt lngg'"
      ]
     },
     "execution_count": 30,
     "metadata": {},
     "output_type": "execute_result"
    }
   ],
   "source": [
    "def no_vowels(text):\n",
    "    for n in text:\n",
    "        vowels = \"aeiouAEIOU\"\n",
    "        return ''.join([n for n in text if n not in vowels])\n",
    "\n",
    "disemvowel ='Python is my favorite language' \n",
    "no_vowels(disemvowel)"
   ]
  },
  {
   "cell_type": "markdown",
   "metadata": {},
   "source": [
    "84) Write a function that takes in a string and returns that string with its vowels removed _unless it's a one-letter word_, in which case leave the vowel intact. You should use your answer in the previous problem to answer this.\n",
    "* _Example:_ `smart_disemvowel('I love Python programming') == 'I lv Pythn prgrmmng'`"
   ]
  },
  {
   "cell_type": "code",
   "execution_count": 32,
   "metadata": {},
   "outputs": [
    {
     "data": {
      "text/plain": [
       "'I lv Pythn prgrmmng'"
      ]
     },
     "execution_count": 32,
     "metadata": {},
     "output_type": "execute_result"
    }
   ],
   "source": [
    "def leave_single(text):\n",
    "    vowels = \"aeiouAEIOU\"\n",
    "    def rm_vowels(text):\n",
    "        return ''.join([n for n in text if n not in vowels])\n",
    "    \n",
    "    return ' '.join([rm_vowels(n) if len(n)>1 else n for n in text.split()])\n",
    "\n",
    "smart_disemvowel='I love Python programming'\n",
    "leave_single(smart_disemvowel)"
   ]
  },
  {
   "cell_type": "markdown",
   "metadata": {},
   "source": [
    "85) Write a function that takes in a string (likely multiple words long) and returns that string with the order of the words reversed.\n",
    "* _Example:_ `word_reverser('Data science is cool') == 'cool is science Data'`"
   ]
  },
  {
   "cell_type": "code",
   "execution_count": 34,
   "metadata": {},
   "outputs": [
    {
     "data": {
      "text/plain": [
       "'cool is science Data'"
      ]
     },
     "execution_count": 34,
     "metadata": {},
     "output_type": "execute_result"
    }
   ],
   "source": [
    "def reverse(text):\n",
    "    return ' '.join([n for n in text.split() [::-1]])\n",
    "\n",
    "word_reverser='Data science is cool'\n",
    "reverse(word_reverser)"
   ]
  },
  {
   "cell_type": "markdown",
   "metadata": {},
   "source": [
    "86) Write a function that takes in a string (likely multiple words long) and returns that string with each word reversed, but with the words in the same order.\n",
    "* _Example:_ `letter_reverser('Data science is cool') == 'ataD ecneics si looc'`"
   ]
  },
  {
   "cell_type": "code",
   "execution_count": 36,
   "metadata": {},
   "outputs": [
    {
     "data": {
      "text/plain": [
       "'ataD ecneics si looc'"
      ]
     },
     "execution_count": 36,
     "metadata": {},
     "output_type": "execute_result"
    }
   ],
   "source": [
    "def reverse(text):\n",
    "    return ' '.join([n[::-1] for n in text.split()])\n",
    "\n",
    "letter_reverser='Data science is cool'\n",
    "reverse(letter_reverser)"
   ]
  },
  {
   "cell_type": "markdown",
   "metadata": {},
   "source": [
    "87) Write a function that converts a string to \"leet speak\". Leet speak is a made-up internet language which you replace characters with symbols that look like those characters. For example:\n",
    "\n",
    "* _Example:_ `to_leet_speak('i am elite') == '! @M 31!73'`\n",
    "* _Hint:_ Recall what `.get()` does when called on a dictionary? Will this help you with spaces or other non-letter characters?\n",
    "\n",
    "_Note:_ This problem is borrowed from [this](https://www.codewars.com/kata/toleetspeak) wonderful Codewars challenge!\n",
    "\n",
    "Below is the English-to-leet dictionary:"
   ]
  },
  {
   "cell_type": "code",
   "execution_count": 38,
   "metadata": {},
   "outputs": [],
   "source": [
    "LEET_DICT = {'A' : '@', 'B' : '8', 'C' : '(', 'D' : 'D', 'E' : '3',\n",
    "             'F' : 'F', 'G' : '6', 'H' : '#', 'I' : '!', 'J' : 'J',\n",
    "             'K' : 'K', 'L' : '1', 'M' : 'M', 'N' : 'N', 'O' : '0',\n",
    "             'P' : 'P', 'Q' : 'Q', 'R' : 'R', 'S' : '$', 'T' : '7',\n",
    "             'U' : 'U', 'V' : 'V', 'W' : 'W', 'X' : 'X', 'Y' : 'Y',\n",
    "             'Z' : '2'}"
   ]
  },
  {
   "cell_type": "code",
   "execution_count": 39,
   "metadata": {},
   "outputs": [
    {
     "data": {
      "text/plain": [
       "'! @M 31!73'"
      ]
     },
     "execution_count": 39,
     "metadata": {},
     "output_type": "execute_result"
    }
   ],
   "source": [
    "def converter(text):\n",
    "    return ''.join([LEET_DICT.get(n.upper(), n) for n in text])\n",
    "\n",
    "m = 'i am elite'\n",
    "converter(m)"
   ]
  },
  {
   "cell_type": "markdown",
   "metadata": {},
   "source": [
    "87) Write an `is_prime` function that takes in a number and returns a boolean of whether or not that number was prime. (_Hint:_ You already did this in a previous section.)\n",
    "\n",
    "* _Example:_ `is_prime(5) == True`\n",
    "* _Example:_ `is_prime(6) == False`"
   ]
  },
  {
   "cell_type": "code",
   "execution_count": 41,
   "metadata": {},
   "outputs": [
    {
     "data": {
      "text/plain": [
       "False"
      ]
     },
     "execution_count": 41,
     "metadata": {},
     "output_type": "execute_result"
    }
   ],
   "source": [
    "def is_prime(n):\n",
    "    if n <= 1:\n",
    "        return False\n",
    "    \n",
    "    for i in range(2, n+1):\n",
    "        \n",
    "        if i != n and not n % i:\n",
    "            return False\n",
    "    return True\n",
    "is_prime(56)"
   ]
  },
  {
   "cell_type": "markdown",
   "metadata": {},
   "source": [
    "88) Write a function that takes in a number and returns the sum of all primes less than or equal to that number. You'll need your answer to the previous problem to answer this.\n",
    "* _Example:_ `sum_primes(11) == 2 + 3 + 5 + 7 + 11 == 28`\n",
    "* _Bonus:_ Can you do this in one line with a list comprehension?"
   ]
  },
  {
   "cell_type": "code",
   "execution_count": 43,
   "metadata": {},
   "outputs": [
    {
     "data": {
      "text/plain": [
       "381"
      ]
     },
     "execution_count": 43,
     "metadata": {},
     "output_type": "execute_result"
    }
   ],
   "source": [
    "def sum_all(n):\n",
    "    sum = 0\n",
    "    if n <= 1:\n",
    "        return False\n",
    "    for i in range(2, n+1):\n",
    "        if is_prime(i):\n",
    "            sum = sum+ i\n",
    "    return sum\n",
    "    \n",
    "sum_all(56)\n"
   ]
  },
  {
   "cell_type": "markdown",
   "metadata": {},
   "source": [
    "# Section VIII: What's next?"
   ]
  },
  {
   "cell_type": "markdown",
   "metadata": {},
   "source": [
    "## Section VIIIa: Virtual Practice\n",
    "\n",
    "Now that we've got a handle on the basics (and a few problems much more difficult than \"basic\"), what do we do next? If you'd like some more difficult challenges, sign up for [Codewars](https://www.codewars.com)! Codewars is a website in which you are repeatedly given coding challenges that get progressively more difficult. You earn XP and level up, giving you harder and harder problems. Below is an ever-updating list of coding challenges that we recommend. Some of them are Codewars challenges, some from other resources:"
   ]
  },
  {
   "cell_type": "markdown",
   "metadata": {},
   "source": [
    "* [Run-length Encoding](https://www.codewars.com/kata/run-length-encoding-1) (Codewars)\n",
    "* [Permutations](https://leetcode.com/problems/permutations/) (Leetcode)\n",
    "* [\"1-Dimensional Candy Crush\"](https://leetcode.com/discuss/interview-question/380650/bloomberg-phone-screen-candy-crush-1d) (Leetcode)"
   ]
  },
  {
   "cell_type": "markdown",
   "metadata": {},
   "source": [
    "## Section VIIIb: Real Interview Challenges\n",
    "Below are interesting challenges stolen directly from real interviews! These challenges have been reported from both GA students and GA instructors. If you find a good one in your future interviews, please come back and tell us! This section of the ladder is ever-updating."
   ]
  },
  {
   "cell_type": "markdown",
   "metadata": {},
   "source": [
    "### File Permissions\n",
    "In UNIX-like systems (eg, Mac and Linux), the permissions on certain files are given by short 9-character codes. These characters represent the read (**r**), write (**w**), and execute (**x**) permissions of the owner, assigned group, and all users, respectively. For example, the code\n",
    "\n",
    "`rwx------`\n",
    "\n",
    "means the file owner has all 3 kinds of permissions, but no one else can do anything. Another common code is \n",
    "\n",
    "`rwxr-xr-x`\n",
    "\n",
    "which means that everyone can read and execute the file, but only the owner has permission to write to it (that is, to change it). You can see these permissions yourself by typing `ls -l` from your command line!\n",
    "\n",
    "In order to further save space, these codes are often saved as a 3-digit number, where each digit corresponds to the sum of the values of `r`, `w`, and `x`. `r` is worth 4, `w` is worth 2, `x` is worth 1, and `-` is worth 0. For example, `rwx------` is shortened to the code `700`, and `rwxr-xr-x` is `755`.\n",
    "\n",
    "Your challenge is to write a function that shortens the \"permission string\" to its corresponding \"permission code\" (properly known as its \"octal notation\"). Please note that the output of your function should be an integer, not a string! You can assume the \"permission string\" is always valid.\n",
    "\n",
    "* _Example:_ `permissions_to_octa(\"rwxr-xr-x\") = 755`"
   ]
  },
  {
   "cell_type": "code",
   "execution_count": 49,
   "metadata": {},
   "outputs": [
    {
     "name": "stdout",
     "output_type": "stream",
     "text": [
      "315\n"
     ]
    }
   ],
   "source": [
    "def permissions_to_octal(permission_string):\n",
    "    # Split the string into three parts\n",
    "    owner = permission_string[0:3]\n",
    "    group = permission_string[3:6]\n",
    "    others = permission_string[6:9]\n",
    "    \n",
    "    # Helper function to convert a single part to its octal value\n",
    "    def part_to_octal(part):\n",
    "        value = 0\n",
    "        if 'r' in part: value = value + 4\n",
    "        if 'w' in part: value = value + 2\n",
    "        if 'x' in part: value = value + 1\n",
    "        return value\n",
    "    \n",
    "    # Convert each part to its octal value\n",
    "    owner_octal = part_to_octal(owner)\n",
    "    group_octal = part_to_octal(group)\n",
    "    others_octal = part_to_octal(others)\n",
    "    \n",
    "    # Combine the results into a single integer\n",
    "    return (owner_octal * 100) + (group_octal * 10) + others_octal\n",
    "\n",
    "# Test the function\n",
    "result = permissions_to_octal(\"xwxx-xr-x\")\n",
    "print(result)  # Should output 755"
   ]
  },
  {
   "cell_type": "markdown",
   "metadata": {},
   "source": [
    "### Grocery Bags\n",
    "A large grocery bag can hold 5 items, while a small grocery bag can hold only 1. The numbers of each size bag available may be limited. All items must be placed in a bag and each bag must be filled completely. For example, if we have 16 items, 2 large bags, and 10 small bags, 8 total bags are needed. 2 large bags + 6 small bags = 16 items in 8 bags.\n",
    "\n",
    "Write a function to calculate the **minimum** number of bags needed. If it's not possible to meet these conditions, return `-1`.\n",
    "\n",
    "* `min_bags(16, 2, 10) = 8`\n",
    "* `min_bags(20, 2, 2) = -1`"
   ]
  },
  {
   "cell_type": "code",
   "execution_count": 51,
   "metadata": {},
   "outputs": [],
   "source": [
    "def min_bags(total, avail_large, avail_small):\n",
    "    \"\"\"\n",
    "    Return the least number of bags needed to hold `num_items` items, given there are only:\n",
    "        + `avail_large` 5-item bags, and \n",
    "        + `avail_small` 1-item bags.\n",
    "    \"\"\"\n",
    "    \n",
    "# finding no. of large bags\n",
    "    large_bag_num = total // 5\n",
    "    if large_bag_num > avail_large:\n",
    "        large_bag_num = avail_large\n",
    "    remaining = total - (large_bag_num * 5)\n",
    "# finding no of small bags\n",
    "    small_bag_num = remaining\n",
    "    if small_bag_num > avail_small:\n",
    "        return -1\n",
    "    return int(large_bag_num + small_bag_num)"
   ]
  },
  {
   "cell_type": "code",
   "execution_count": 52,
   "metadata": {},
   "outputs": [
    {
     "data": {
      "text/plain": [
       "-1"
      ]
     },
     "execution_count": 52,
     "metadata": {},
     "output_type": "execute_result"
    }
   ],
   "source": [
    "min_bags(20,2,2)"
   ]
  },
  {
   "cell_type": "code",
   "execution_count": null,
   "metadata": {},
   "outputs": [],
   "source": []
  }
 ],
 "metadata": {
  "kernelspec": {
   "display_name": "Python 3 (ipykernel)",
   "language": "python",
   "name": "python3"
  },
  "language_info": {
   "codemirror_mode": {
    "name": "ipython",
    "version": 3
   },
   "file_extension": ".py",
   "mimetype": "text/x-python",
   "name": "python",
   "nbconvert_exporter": "python",
   "pygments_lexer": "ipython3",
   "version": "3.12.4"
  }
 },
 "nbformat": 4,
 "nbformat_minor": 4
}
